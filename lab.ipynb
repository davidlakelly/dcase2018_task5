{
 "cells": [
  {
   "cell_type": "code",
   "execution_count": null,
   "metadata": {},
   "outputs": [],
   "source": [
    "#Setup environment variables\n",
    "\n",
    "DEV_DATASET_DIR=\"C:\\\\Users\\\\David\\\\Desktop\\\\dcase_5\\\\dcase2018_task5\\\\DCASE2018-task5-dev\"\n",
    "EVAL_DATASET_DIR=\"C:\\\\Users\\\\David\\\\Desktop\\\\dcase_5\\\\dcase2018_task5\\\\DCASE2018-task5-eval\"\n",
    "\n",
    "# You need to modify this path\n",
    "WORKSPACE=\"C:\\\\Users\\\\David\\\\Desktop\\\\dcase_5\\\\dcase2018_task5\"\n",
    "BACKEND=\"pytorch\"\n",
    "HOLDOUT_FOLD=2\n",
    "GPU_ID=1\n",
    "CUDA_VISIBLE_DEVICES=GPU_ID "
   ]
  },
  {
   "cell_type": "code",
   "execution_count": null,
   "metadata": {},
   "outputs": [],
   "source": [
    "#Setup environment variables\n",
    "\n",
    "!python utils/features.py logmel --dataset_dir=$DEV_DATASET_DIR --workspace=$WORKSPACE\n",
    "!python utils/features.py logmel --dataset_dir=$EVAL_DATASET_DIR --workspace=$WORKSPACE\n"
   ]
  },
  {
   "cell_type": "code",
   "execution_count": null,
   "metadata": {},
   "outputs": [],
   "source": [
    "#Generates augmented audio. File contains augmentation parameters.\n",
    "!python processor.py"
   ]
  },
  {
   "cell_type": "code",
   "execution_count": null,
   "metadata": {},
   "outputs": [],
   "source": [
    "#Generate logmels for augmentated data\n",
    "%%capture\n",
    "import sys\n",
    "sys.path.append(\"utils\")\n",
    "\n",
    "import features\n",
    "\n",
    "augs = [\n",
    "\"aug_shuffle_10_per_3_cuts\",\n",
    "\"aug_shuffle_10_per_5_cuts\",\n",
    "\"aug_shuffle_10_per_7_cuts\",\n",
    "\"aug_shuffle_20_per_3_cuts\",\n",
    "\"aug_shuffle_20_per_5_cuts\",\n",
    "\"aug_shuffle_20_per_7_cuts\",\n",
    "\"aug_mixer_10_per_3_cuts_2_mix\",\n",
    "\"aug_mixer_10_per_5_cuts_2_mix\",\n",
    "\"aug_mixer_10_per_7_cuts_2_mix\",\n",
    "\"aug_mixer_20_per_3_cuts_2_mix\",\n",
    "\"aug_mixer_20_per_5_cuts_2_mix\",\n",
    "\"aug_mixer_20_per_7_cuts_2_mix\",\n",
    "\"aug_mixer_10_per_5_cuts_3_mix\",\n",
    "\"aug_mixer_10_per_7_cuts_3_mix\"\n",
    "\"aug_vol_10_per\"\n",
    "]\n",
    "\n",
    "for i in augs:\n",
    "    features.logmel_for_aug(i);"
   ]
  },
  {
   "cell_type": "code",
   "execution_count": null,
   "metadata": {},
   "outputs": [],
   "source": [
    "#Train baseline system in 4-fold holdout manner \n",
    "\n",
    "for i in range(1,5):\n",
    "    !python $BACKEND/main_pytorch.py train --dataset_dir=$DEV_DATASET_DIR --workspace=$WORKSPACE --validate --holdout_fold=$i --title=\"baseline\" --cuda\n",
    "    !python $BACKEND/main_pytorch.py inference_validation_data --dataset_dir=$DEV_DATASET_DIR --workspace=$WORKSPACE --holdout_fold=$HOLDOUT_FOLD --iteration=1000 --cuda\n"
   ]
  },
  {
   "cell_type": "code",
   "execution_count": null,
   "metadata": {},
   "outputs": [],
   "source": [
    "#Train baseline system on full dataset and evaluate on testing data\n",
    "\n",
    "!python $BACKEND/main_pytorch.py train --dataset_dir=$DEV_DATASET_DIR --workspace=$WORKSPACE --cuda\n",
    "!python $BACKEND/main_pytorch.py inference_testing_data --workspace=$WORKSPACE --iteration=1000 --title=\"baseline\" --cuda"
   ]
  },
  {
   "cell_type": "code",
   "execution_count": null,
   "metadata": {},
   "outputs": [],
   "source": [
    "#For each new augmentation, for each fold, train and validate in 4-fold manner\n",
    "augs = [\n",
    "\"aug_shuffle_10_per_3_cuts\",\n",
    "\"aug_shuffle_10_per_5_cuts\",\n",
    "\"aug_shuffle_10_per_7_cuts\",\n",
    "\"aug_shuffle_20_per_3_cuts\",\n",
    "\"aug_shuffle_20_per_5_cuts\",\n",
    "\"aug_shuffle_20_per_7_cuts\",\n",
    "\"aug_mixer_10_per_3_cuts_2_mix\",\n",
    "\"aug_mixer_10_per_5_cuts_2_mix\",\n",
    "\"aug_mixer_10_per_7_cuts_2_mix\",\n",
    "\"aug_mixer_20_per_3_cuts_2_mix\",\n",
    "\"aug_mixer_20_per_5_cuts_2_mix\",\n",
    "\"aug_mixer_20_per_7_cuts_2_mix\",\n",
    "\"aug_mixer_10_per_5_cuts_3_mix\",\n",
    "\"aug_mixer_10_per_7_cuts_3_mix\"\n",
    "\"aug_vol_10_per\"\n",
    "]\n",
    "\n",
    "for a in augs:\n",
    "    for i in range(1,5):\n",
    "    !python $BACKEND/main_pytorch.py train --dataset_dir=$DEV_DATASET_DIR --workspace=$WORKSPACE --augmentation_1=a --validate --holdout_fold=$i --title=\"baseline\" --cuda\n",
    "    !python $BACKEND/main_pytorch.py inference_validation_data --workspace=$WORKSPACE --holdout_fold=$HOLDOUT_FOLD --iteration=1000 --title=a --cuda\n"
   ]
  },
  {
   "cell_type": "code",
   "execution_count": null,
   "metadata": {},
   "outputs": [],
   "source": [
    "#For each new augmentation, train and evaluate on full datasets\n",
    "\n",
    "augs = [\n",
    "\"aug_shuffle_10_per_3_cuts\",\n",
    "\"aug_shuffle_10_per_5_cuts\",\n",
    "\"aug_shuffle_10_per_7_cuts\",\n",
    "\"aug_shuffle_20_per_3_cuts\",\n",
    "\"aug_shuffle_20_per_5_cuts\",\n",
    "\"aug_shuffle_20_per_7_cuts\",\n",
    "\"aug_mixer_10_per_3_cuts_2_mix\",\n",
    "\"aug_mixer_10_per_5_cuts_2_mix\",\n",
    "\"aug_mixer_10_per_7_cuts_2_mix\",\n",
    "\"aug_mixer_20_per_3_cuts_2_mix\",\n",
    "\"aug_mixer_20_per_5_cuts_2_mix\",\n",
    "\"aug_mixer_20_per_7_cuts_2_mix\",\n",
    "\"aug_mixer_10_per_5_cuts_3_mix\",\n",
    "\"aug_mixer_10_per_7_cuts_3_mix\"\n",
    "\"aug_vol_10_per\"\n",
    "]\n",
    "\n",
    "for b in augs:\n",
    "    !python $BACKEND/main_pytorch.py train --dataset_dir=$DEV_DATASET_DIR --workspace=$WORKSPACE --augmentation_1=b --cuda\n",
    "    !python $BACKEND/main_pytorch.py inference_testing_data --workspace=$WORKSPACE --iteration=1000 --title=b --cuda\n",
    "\n"
   ]
  }
 ],
 "metadata": {
  "kernelspec": {
   "display_name": "Python 3.6.13 ('py3_dcase2018_task5_2')",
   "language": "python",
   "name": "python3"
  },
  "language_info": {
   "codemirror_mode": {
    "name": "ipython",
    "version": 3
   },
   "file_extension": ".py",
   "mimetype": "text/x-python",
   "name": "python",
   "nbconvert_exporter": "python",
   "pygments_lexer": "ipython3",
   "version": "3.6.13"
  },
  "orig_nbformat": 4,
  "vscode": {
   "interpreter": {
    "hash": "6bc358a215fa64b0bd2e35db93305389befbabc07a935fc4facc4f4e52027abb"
   }
  }
 },
 "nbformat": 4,
 "nbformat_minor": 2
}
