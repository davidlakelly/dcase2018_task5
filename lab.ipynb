{
 "cells": [
  {
   "cell_type": "code",
   "execution_count": 2,
   "metadata": {},
   "outputs": [],
   "source": [
    "DEV_DATASET_DIR=\"C:\\\\Users\\\\David\\\\Desktop\\\\dcase_5\\\\dcase2018_task5\\\\DCASE2018-task5-dev\"\n",
    "EVAL_DATASET_DIR=\"C:\\\\Users\\\\David\\\\Desktop\\\\dcase_5\\\\dcase2018_task5\\\\DCASE2018-task5-eval\"\n",
    "\n",
    "# You need to modify this path\n",
    "WORKSPACE=\"C:\\\\Users\\\\David\\\\Desktop\\\\dcase_5\\\\dcase2018_task5\"\n",
    "BACKEND=\"pytorch\"\n",
    "HOLDOUT_FOLD=2\n",
    "GPU_ID=1\n",
    "CUDA_VISIBLE_DEVICES=GPU_ID "
   ]
  },
  {
   "cell_type": "code",
   "execution_count": 6,
   "metadata": {},
   "outputs": [
    {
     "name": "stdout",
     "output_type": "stream",
     "text": [
      "<class 'h5py._hl.files.File'>\n"
     ]
    },
    {
     "name": "stderr",
     "output_type": "stream",
     "text": [
      "root        : INFO     Namespace(augmentation_1='aug_shuffle_10_per_5_cuts', augmentation_2=None, cuda=True, dataset_dir='C:\\\\Users\\\\David\\\\Desktop\\\\dcase_5\\\\dcase2018_task5\\\\DCASE2018-task5-dev', filename='c:\\\\Users\\\\David\\\\Desktop\\\\dcase_5\\\\dcase2018_task5\\\\pytorch\\\\main_pytorch', holdout_fold=1, mini_data=False, mode='train', title='aug_shuffle_10_per_5_cuts', validate=True, workspace='C:\\\\Users\\\\David\\\\Desktop\\\\dcase_5\\\\dcase2018_task5')\n",
      "root        : INFO     Load data time: 21.738877058029175\n",
      "root        : INFO     Get indexes time: 79.132 s\n",
      "root        : INFO     Training audios: 62263\n",
      "root        : INFO     Validation audios: 18020\n",
      "c:\\Users\\David\\.conda\\envs\\py3_dcase2018_task5_2\\lib\\site-packages\\sklearn\\metrics\\classification.py:1135: UndefinedMetricWarning: F-score is ill-defined and being set to 0.0 in labels with no predicted samples.\n",
      "  'precision', 'predicted', average, warn_for)\n",
      "root        : INFO     iteration: 0, train time: 0.0160 s, validate time: 7.5429 s\n",
      "root        : INFO     tr_acc: 0.0681, tr_f1_score: 0.0169, tr_loss: 2.9606\n",
      "root        : INFO     va_acc: 0.0748, va_f1_score: 0.0200, va_loss: 2.8156\n",
      "root        : INFO     ------------------------------------\n",
      "root        : INFO     iteration: 200, train time: 24.9980 s, validate time: 7.0803 s\n",
      "root        : INFO     tr_acc: 0.9036, tr_f1_score: 0.8480, tr_loss: 0.2908\n",
      "root        : INFO     va_acc: 0.8853, va_f1_score: 0.8239, va_loss: 0.3508\n",
      "root        : INFO     ------------------------------------\n",
      "root        : INFO     iteration: 400, train time: 25.3868 s, validate time: 7.0993 s\n",
      "root        : INFO     tr_acc: 0.9236, tr_f1_score: 0.8743, tr_loss: 0.2302\n",
      "root        : INFO     va_acc: 0.8734, va_f1_score: 0.8234, va_loss: 0.3647\n",
      "root        : INFO     ------------------------------------\n",
      "root        : INFO     iteration: 600, train time: 25.4396 s, validate time: 7.1273 s\n",
      "root        : INFO     tr_acc: 0.9400, tr_f1_score: 0.9066, tr_loss: 0.1908\n",
      "root        : INFO     va_acc: 0.8944, va_f1_score: 0.8536, va_loss: 0.3145\n",
      "root        : INFO     ------------------------------------\n",
      "root        : INFO     iteration: 800, train time: 25.4486 s, validate time: 7.2098 s\n",
      "root        : INFO     tr_acc: 0.9433, tr_f1_score: 0.9096, tr_loss: 0.1668\n",
      "root        : INFO     va_acc: 0.8955, va_f1_score: 0.8691, va_loss: 0.3124\n",
      "root        : INFO     ------------------------------------\n",
      "root        : INFO     iteration: 1000, train time: 25.4707 s, validate time: 7.3215 s\n",
      "root        : INFO     tr_acc: 0.9481, tr_f1_score: 0.9399, tr_loss: 0.1584\n",
      "root        : INFO     va_acc: 0.9155, va_f1_score: 0.8796, va_loss: 0.2653\n",
      "root        : INFO     ------------------------------------\n",
      "root        : INFO     Model saved to c:\\Users\\David\\Desktop\\dcase_5\\dcase2018_task5\\pytorch\\main_pytorch\\holdout_fold1\\md_1000_iters.tar\n"
     ]
    },
    {
     "name": "stdout",
     "output_type": "stream",
     "text": [
      "<class 'h5py._hl.files.File'>\n"
     ]
    },
    {
     "name": "stderr",
     "output_type": "stream",
     "text": [
      "root        : INFO     Namespace(augmentation_1='aug_shuffle_10_per_3_cuts', augmentation_2=None, cuda=True, dataset_dir='C:\\\\Users\\\\David\\\\Desktop\\\\dcase_5\\\\dcase2018_task5\\\\DCASE2018-task5-dev', filename='c:\\\\Users\\\\David\\\\Desktop\\\\dcase_5\\\\dcase2018_task5\\\\pytorch\\\\main_pytorch', holdout_fold=1, mini_data=False, mode='train', title='aug_shuffle_10_per_3_cuts', validate=True, workspace='C:\\\\Users\\\\David\\\\Desktop\\\\dcase_5\\\\dcase2018_task5')\n",
      "root        : INFO     Load data time: 20.429942846298218\n",
      "root        : INFO     Get indexes time: 73.062 s\n",
      "root        : INFO     Training audios: 62263\n",
      "root        : INFO     Validation audios: 18020\n",
      "c:\\Users\\David\\.conda\\envs\\py3_dcase2018_task5_2\\lib\\site-packages\\sklearn\\metrics\\classification.py:1135: UndefinedMetricWarning: F-score is ill-defined and being set to 0.0 in labels with no predicted samples.\n",
      "  'precision', 'predicted', average, warn_for)\n",
      "root        : INFO     iteration: 0, train time: 0.0060 s, validate time: 7.7115 s\n",
      "root        : INFO     tr_acc: 0.1614, tr_f1_score: 0.0645, tr_loss: 3.4638\n",
      "root        : INFO     va_acc: 0.1883, va_f1_score: 0.0813, va_loss: 3.1233\n",
      "root        : INFO     ------------------------------------\n",
      "root        : INFO     iteration: 200, train time: 25.0442 s, validate time: 7.1704 s\n",
      "root        : INFO     tr_acc: 0.8806, tr_f1_score: 0.8333, tr_loss: 0.3576\n",
      "root        : INFO     va_acc: 0.8220, va_f1_score: 0.7812, va_loss: 0.4655\n",
      "root        : INFO     ------------------------------------\n",
      "root        : INFO     iteration: 400, train time: 25.4171 s, validate time: 7.1555 s\n",
      "root        : INFO     tr_acc: 0.9344, tr_f1_score: 0.8819, tr_loss: 0.1984\n",
      "root        : INFO     va_acc: 0.8805, va_f1_score: 0.8347, va_loss: 0.3410\n",
      "root        : INFO     ------------------------------------\n",
      "root        : INFO     iteration: 600, train time: 25.4079 s, validate time: 7.2207 s\n",
      "root        : INFO     tr_acc: 0.9237, tr_f1_score: 0.8939, tr_loss: 0.2304\n",
      "root        : INFO     va_acc: 0.8719, va_f1_score: 0.8347, va_loss: 0.3526\n",
      "root        : INFO     ------------------------------------\n",
      "root        : INFO     iteration: 800, train time: 25.4479 s, validate time: 7.2586 s\n",
      "root        : INFO     tr_acc: 0.9398, tr_f1_score: 0.9196, tr_loss: 0.1836\n",
      "root        : INFO     va_acc: 0.8923, va_f1_score: 0.8708, va_loss: 0.3216\n",
      "root        : INFO     ------------------------------------\n",
      "root        : INFO     iteration: 1000, train time: 25.4248 s, validate time: 7.1696 s\n",
      "root        : INFO     tr_acc: 0.9461, tr_f1_score: 0.9378, tr_loss: 0.1580\n",
      "root        : INFO     va_acc: 0.9077, va_f1_score: 0.8831, va_loss: 0.2885\n",
      "root        : INFO     ------------------------------------\n",
      "root        : INFO     Model saved to c:\\Users\\David\\Desktop\\dcase_5\\dcase2018_task5\\pytorch\\main_pytorch\\holdout_fold1\\md_1000_iters.tar\n"
     ]
    }
   ],
   "source": [
    "for i in range(1,2):\n",
    "    !python $BACKEND/main_pytorch.py train --dataset_dir=$DEV_DATASET_DIR --workspace=$WORKSPACE --validate --holdout_fold=$i --title=\"aug_shuffle_10_per_5_cuts\" --augmentation_1=\"aug_shuffle_10_per_5_cuts\" --cuda\n",
    "    !python $BACKEND/main_pytorch.py train --dataset_dir=$DEV_DATASET_DIR --workspace=$WORKSPACE --validate --holdout_fold=$i --title=\"aug_shuffle_10_per_3_cuts\" --augmentation_1=\"aug_shuffle_10_per_3_cuts\" --cuda\n",
    "\n"
   ]
  },
  {
   "cell_type": "code",
   "execution_count": 3,
   "metadata": {},
   "outputs": [
    {
     "name": "stdout",
     "output_type": "stream",
     "text": [
      "^C\n"
     ]
    }
   ],
   "source": [
    "!python $BACKEND/main_pytorch.py train --dataset_dir=$DEV_DATASET_DIR --workspace=$WORKSPACE --cuda\n"
   ]
  },
  {
   "cell_type": "code",
   "execution_count": 8,
   "metadata": {},
   "outputs": [
    {
     "name": "stdout",
     "output_type": "stream",
     "text": [
      " Volume in drive C has no label.\n",
      " Volume Serial Number is 0E8A-A804\n",
      "\n",
      " Directory of c:\\Users\\David\\Desktop\\dcase_5\\dcase2018_task5\n",
      "\n"
     ]
    },
    {
     "name": "stderr",
     "output_type": "stream",
     "text": [
      "File Not Found\n"
     ]
    }
   ],
   "source": [
    "x = \"c\\\\\\\\\" \n",
    "\n",
    "!dir x"
   ]
  },
  {
   "cell_type": "code",
   "execution_count": 19,
   "metadata": {},
   "outputs": [
    {
     "name": "stdout",
     "output_type": "stream",
     "text": [
      "<class 'h5py._hl.files.File'>\n",
      "length of targets17992\n"
     ]
    },
    {
     "name": "stderr",
     "output_type": "stream",
     "text": [
      "root        : INFO     Namespace(cuda=True, dataset_dir='C:\\\\Users\\\\David\\\\Desktop\\\\dcase_5\\\\dcase2018_task5\\\\DCASE2018-task5-dev', filename='c:\\\\Users\\\\David\\\\Desktop\\\\dcase_5\\\\dcase2018_task5\\\\pytorch\\\\main_pytorch', holdout_fold=2, iteration=1000, mode='inference_validation_data', workspace='C:\\\\Users\\\\David\\\\Desktop\\\\dcase_5\\\\dcase2018_task5')\n",
      "root        : INFO     Load data time: 16.73856258392334\n",
      "root        : INFO     Get indexes time: 58.922 s\n",
      "root        : INFO     Training audios: 54992\n",
      "root        : INFO     Validation audios: 17992\n",
      "root        : INFO     Inference time: 10.5566 s\n",
      "root        : INFO     Averaged accuracy: 0.8921\n",
      "root        : INFO     class_name                    f1_score\n",
      "root        : INFO     ---------------------------------------\n",
      "root        : INFO     absence                       0.8824\n",
      "root        : INFO     cooking                       0.9371\n",
      "root        : INFO     dishwashing                   0.7064\n",
      "root        : INFO     eating                        0.7760\n",
      "root        : INFO     other                         0.4935\n",
      "root        : INFO     social_activity               0.8786\n",
      "root        : INFO     vacuum_cleaner                0.9981\n",
      "root        : INFO     watching_tv                   0.9974\n",
      "root        : INFO     working                       0.8444\n",
      "root        : INFO     ---------------------------------------\n",
      "root        : INFO     Average                       0.8349\n"
     ]
    }
   ],
   "source": [
    "!python $BACKEND/main_pytorch.py inference_validation_data --dataset_dir=$DEV_DATASET_DIR --workspace=$WORKSPACE --holdout_fold=$HOLDOUT_FOLD --iteration=1000 --cuda\n"
   ]
  },
  {
   "cell_type": "code",
   "execution_count": 3,
   "metadata": {},
   "outputs": [],
   "source": [
    "import csv\n",
    "with open(\"experiment_results/training_results.csv\",\"a\", newline=\"\") as f:\n",
    "                    headers = [\"title\",\"fold\",\"training_samples\", \"validation_samples\", \"training_accuracy\", \"training_f1\",\"training_loss\", \"validation_accuracy\", \"validation_f1\", \"validation_loss\"]\n",
    "                    writer = csv.writer(f, delimiter=\",\", lineterminator='\\n')\n",
    "                    writer.writerow(headers)"
   ]
  },
  {
   "cell_type": "code",
   "execution_count": 10,
   "metadata": {},
   "outputs": [
    {
     "data": {
      "text/plain": [
       "'working'"
      ]
     },
     "execution_count": 10,
     "metadata": {},
     "output_type": "execute_result"
    }
   ],
   "source": [
    "labels = ['absence', 'cooking', 'dishwashing', 'eating', 'other', 'social_activity', 'vacuum_cleaner', 'watching_tv', 'working']\n",
    "\n",
    "lb_to_ix = {lb: ix for ix, lb in enumerate(labels)}\n",
    "\n",
    "labels[8]"
   ]
  },
  {
   "cell_type": "code",
   "execution_count": 3,
   "metadata": {},
   "outputs": [],
   "source": [
    "%%capture\n",
    "import sys\n",
    "sys.path.append(\"utils\")\n",
    "\n",
    "import features\n",
    "# augs = [\n",
    "# \"aug_shuffle_10_per_3_cuts\",\n",
    "# \"aug_shuffle_10_per_5_cuts\",\n",
    "# \"aug_shuffle_10_per_7_cuts\",\n",
    "# ]\n",
    "\n",
    "# for i in augs:\n",
    "#     features.logmel_for_aug(i)\n",
    "augs = [\n",
    "# \"aug_shuffle_10_per_3_cuts\",\n",
    "# \"aug_shuffle_10_per_5_cuts\",\n",
    "# \"aug_shuffle_10_per_7_cuts\",\n",
    "# \"aug_shuffle_20_per_3_cuts\",\n",
    "# \"aug_shuffle_20_per_5_cuts\",\n",
    "# \"aug_shuffle_20_per_7_cuts\",\n",
    "\"aug_mixer_10_per_3_cuts_2_mix\",\n",
    "\"aug_mixer_10_per_5_cuts_2_mix\",\n",
    "\"aug_mixer_10_per_7_cuts_2_mix\",\n",
    "\"aug_mixer_20_per_3_cuts_2_mix\",\n",
    "\"aug_mixer_20_per_5_cuts_2_mix\",\n",
    "\"aug_mixer_20_per_7_cuts_2_mix\",\n",
    "\"aug_mixer_10_per_5_cuts_3_mix\",\n",
    "\"aug_mixer_10_per_7_cuts_3_mix\"\n",
    "]\n",
    "\n",
    "for i in augs:\n",
    "    features.logmel_for_aug(i);"
   ]
  },
  {
   "cell_type": "code",
   "execution_count": 4,
   "metadata": {},
   "outputs": [
    {
     "name": "stderr",
     "output_type": "stream",
     "text": [
      "root        : INFO     Namespace(augmentation_1=None, augmentation_2=None, cuda=True, dataset_dir='C:\\\\Users\\\\David\\\\Desktop\\\\dcase_5\\\\dcase2018_task5\\\\DCASE2018-task5-dev', filename='c:\\\\Users\\\\David\\\\Desktop\\\\dcase_5\\\\dcase2018_task5\\\\pytorch\\\\main_pytorch', holdout_fold=None, mini_data=False, mode='train', title=None, validate=False, workspace='C:\\\\Users\\\\David\\\\Desktop\\\\dcase_5\\\\dcase2018_task5')\n",
      "root        : INFO     Load data time: 18.22454857826233\n",
      "root        : INFO     Training audios: 72984\n",
      "root        : INFO     Validation audios: 0\n",
      "c:\\Users\\David\\.conda\\envs\\py3_dcase2018_task5_2\\lib\\site-packages\\sklearn\\metrics\\classification.py:1135: UndefinedMetricWarning: F-score is ill-defined and being set to 0.0 in labels with no predicted samples.\n",
      "  'precision', 'predicted', average, warn_for)\n",
      "root        : INFO     iteration: 0, train time: 0.0070 s, validate time: 4.8415 s\n",
      "root        : INFO     tr_acc: 0.0322, tr_f1_score: 0.0087, tr_loss: 4.6416\n",
      "root        : INFO     ------------------------------------\n",
      "root        : INFO     iteration: 200, train time: 36.1910 s, validate time: 7.6675 s\n",
      "root        : INFO     tr_acc: 0.8439, tr_f1_score: 0.8306, tr_loss: 0.3843\n",
      "root        : INFO     ------------------------------------\n",
      "root        : INFO     iteration: 400, train time: 49.3839 s, validate time: 7.8610 s\n",
      "root        : INFO     tr_acc: 0.9227, tr_f1_score: 0.8725, tr_loss: 0.2231\n",
      "root        : INFO     ------------------------------------\n",
      "root        : INFO     iteration: 600, train time: 49.8326 s, validate time: 7.7061 s\n",
      "root        : INFO     tr_acc: 0.9298, tr_f1_score: 0.8830, tr_loss: 0.2080\n",
      "root        : INFO     ------------------------------------\n",
      "root        : INFO     iteration: 800, train time: 49.7055 s, validate time: 7.6884 s\n",
      "root        : INFO     tr_acc: 0.9441, tr_f1_score: 0.9257, tr_loss: 0.1827\n",
      "root        : INFO     ------------------------------------\n",
      "root        : INFO     iteration: 1000, train time: 49.7383 s, validate time: 7.7123 s\n",
      "root        : INFO     tr_acc: 0.9478, tr_f1_score: 0.9204, tr_loss: 0.1579\n",
      "root        : INFO     ------------------------------------\n",
      "root        : INFO     Model saved to c:\\Users\\David\\Desktop\\dcase_5\\dcase2018_task5\\pytorch\\main_pytorch\\full_train\\md_1000_iters.tar\n"
     ]
    },
    {
     "name": "stdout",
     "output_type": "stream",
     "text": [
      "<class 'h5py._hl.files.File'>\n",
      "This should not run\n",
      "<class 'h5py._hl.files.File'>\n",
      "This should not run\n"
     ]
    },
    {
     "name": "stderr",
     "output_type": "stream",
     "text": [
      "root        : INFO     Namespace(augmentation_1=None, augmentation_2=None, cuda=True, dataset_dir='C:\\\\Users\\\\David\\\\Desktop\\\\dcase_5\\\\dcase2018_task5\\\\DCASE2018-task5-dev', filename='c:\\\\Users\\\\David\\\\Desktop\\\\dcase_5\\\\dcase2018_task5\\\\pytorch\\\\main_pytorch', holdout_fold=None, mini_data=False, mode='train', title=None, validate=False, workspace='C:\\\\Users\\\\David\\\\Desktop\\\\dcase_5\\\\dcase2018_task5')\n",
      "root        : INFO     Load data time: 18.475447416305542\n",
      "root        : INFO     Training audios: 72984\n",
      "root        : INFO     Validation audios: 0\n",
      "c:\\Users\\David\\.conda\\envs\\py3_dcase2018_task5_2\\lib\\site-packages\\sklearn\\metrics\\classification.py:1135: UndefinedMetricWarning: F-score is ill-defined and being set to 0.0 in labels with no predicted samples.\n",
      "  'precision', 'predicted', average, warn_for)\n",
      "root        : INFO     iteration: 0, train time: 0.0070 s, validate time: 10.8109 s\n",
      "root        : INFO     tr_acc: 0.0213, tr_f1_score: 0.0105, tr_loss: 4.3329\n",
      "root        : INFO     ------------------------------------\n",
      "root        : INFO     iteration: 200, train time: 49.3810 s, validate time: 7.7772 s\n",
      "root        : INFO     tr_acc: 0.9159, tr_f1_score: 0.8724, tr_loss: 0.2671\n",
      "root        : INFO     ------------------------------------\n",
      "root        : INFO     iteration: 400, train time: 49.4273 s, validate time: 7.7602 s\n",
      "root        : INFO     tr_acc: 0.9233, tr_f1_score: 0.8833, tr_loss: 0.2133\n",
      "root        : INFO     ------------------------------------\n",
      "root        : INFO     iteration: 600, train time: 49.7222 s, validate time: 7.7363 s\n",
      "root        : INFO     tr_acc: 0.9359, tr_f1_score: 0.8977, tr_loss: 0.1903\n",
      "root        : INFO     ------------------------------------\n",
      "root        : INFO     iteration: 800, train time: 49.6929 s, validate time: 7.7533 s\n",
      "root        : INFO     tr_acc: 0.9473, tr_f1_score: 0.9294, tr_loss: 0.1696\n",
      "root        : INFO     ------------------------------------\n",
      "root        : INFO     iteration: 1000, train time: 37.0839 s, validate time: 3.7669 s\n",
      "root        : INFO     tr_acc: 0.9511, tr_f1_score: 0.9256, tr_loss: 0.1525\n",
      "root        : INFO     ------------------------------------\n",
      "root        : INFO     Model saved to c:\\Users\\David\\Desktop\\dcase_5\\dcase2018_task5\\pytorch\\main_pytorch\\full_train\\md_1000_iters.tar\n"
     ]
    },
    {
     "name": "stdout",
     "output_type": "stream",
     "text": [
      "<class 'h5py._hl.files.File'>\n",
      "This should not run\n",
      "Write out submission file to c:\\Users\\David\\Desktop\\dcase_5\\dcase2018_task5\\pytorch\\main_pytorch\\iteration=1000\\submission.csv\n"
     ]
    },
    {
     "name": "stderr",
     "output_type": "stream",
     "text": [
      "root        : INFO     Namespace(cuda=True, filename='c:\\\\Users\\\\David\\\\Desktop\\\\dcase_5\\\\dcase2018_task5\\\\pytorch\\\\main_pytorch', iteration=1000, mode='inference_testing_data', title='baseline', workspace='C:\\\\Users\\\\David\\\\Desktop\\\\dcase_5\\\\dcase2018_task5')\n",
      "root        : INFO     Load data time: 18.93554949760437\n",
      "root        : INFO     Training audios: 72984\n",
      "root        : INFO     Validation audios: 0\n",
      "root        : INFO     Load data time: 10.796066999435425\n",
      "root        : INFO     Inference time: 40.1696 s\n",
      "root        : INFO     Averaged accuracy: 0.9083\n",
      "root        : INFO     class_name                    f1_score\n",
      "root        : INFO     ---------------------------------------\n",
      "root        : INFO     absence                       0.9091\n",
      "root        : INFO     cooking                       0.9090\n",
      "root        : INFO     dishwashing                   0.7647\n",
      "root        : INFO     eating                        0.8216\n",
      "root        : INFO     other                         0.4505\n",
      "root        : INFO     social_activity               0.9573\n",
      "root        : INFO     vacuum_cleaner                0.9384\n",
      "root        : INFO     watching_tv                   0.9993\n",
      "root        : INFO     working                       0.8403\n",
      "root        : INFO     ---------------------------------------\n",
      "root        : INFO     Average                       0.8434\n"
     ]
    }
   ],
   "source": [
    "!python $BACKEND/main_pytorch.py train --dataset_dir=$DEV_DATASET_DIR --workspace=$WORKSPACE --cuda\n",
    "!python $BACKEND/main_pytorch.py inference_testing_data --workspace=$WORKSPACE --iteration=1000 --title=\"baseline\" --cuda\n",
    "\n",
    "\n",
    "\n",
    "\n"
   ]
  },
  {
   "cell_type": "code",
   "execution_count": 5,
   "metadata": {},
   "outputs": [
    {
     "name": "stdout",
     "output_type": "stream",
     "text": [
      "<class 'h5py._hl.files.File'>\n",
      "This should not run\n"
     ]
    },
    {
     "name": "stderr",
     "output_type": "stream",
     "text": [
      "root        : INFO     Namespace(augmentation_1='aug_shuffle_10_per_3_cuts', augmentation_2=None, cuda=True, dataset_dir='C:\\\\Users\\\\David\\\\Desktop\\\\dcase_5\\\\dcase2018_task5\\\\DCASE2018-task5-dev', filename='c:\\\\Users\\\\David\\\\Desktop\\\\dcase_5\\\\dcase2018_task5\\\\pytorch\\\\main_pytorch', holdout_fold=None, mini_data=False, mode='train', title=None, validate=False, workspace='C:\\\\Users\\\\David\\\\Desktop\\\\dcase_5\\\\dcase2018_task5')\n",
      "root        : INFO     Load data time: 20.40935707092285\n",
      "root        : INFO     Training audios: 80283\n",
      "root        : INFO     Validation audios: 0\n",
      "c:\\Users\\David\\.conda\\envs\\py3_dcase2018_task5_2\\lib\\site-packages\\sklearn\\metrics\\classification.py:1135: UndefinedMetricWarning: F-score is ill-defined and being set to 0.0 in labels with no predicted samples.\n",
      "  'precision', 'predicted', average, warn_for)\n",
      "root        : INFO     iteration: 0, train time: 0.0060 s, validate time: 4.4333 s\n",
      "root        : INFO     tr_acc: 0.0123, tr_f1_score: 0.0027, tr_loss: 5.1611\n",
      "root        : INFO     ------------------------------------\n",
      "root        : INFO     iteration: 200, train time: 24.8782 s, validate time: 3.6114 s\n",
      "root        : INFO     tr_acc: 0.8988, tr_f1_score: 0.8428, tr_loss: 0.3065\n",
      "root        : INFO     ------------------------------------\n",
      "root        : INFO     iteration: 400, train time: 25.3652 s, validate time: 3.6765 s\n",
      "root        : INFO     tr_acc: 0.9080, tr_f1_score: 0.8590, tr_loss: 0.2710\n",
      "root        : INFO     ------------------------------------\n",
      "root        : INFO     iteration: 600, train time: 25.3837 s, validate time: 3.6712 s\n",
      "root        : INFO     tr_acc: 0.9277, tr_f1_score: 0.8890, tr_loss: 0.2269\n",
      "root        : INFO     ------------------------------------\n",
      "root        : INFO     iteration: 800, train time: 25.4152 s, validate time: 3.7368 s\n",
      "root        : INFO     tr_acc: 0.9417, tr_f1_score: 0.9136, tr_loss: 0.1763\n",
      "root        : INFO     ------------------------------------\n",
      "root        : INFO     iteration: 1000, train time: 25.5104 s, validate time: 3.7699 s\n",
      "root        : INFO     tr_acc: 0.9491, tr_f1_score: 0.9192, tr_loss: 0.1447\n",
      "root        : INFO     ------------------------------------\n",
      "root        : INFO     Model saved to c:\\Users\\David\\Desktop\\dcase_5\\dcase2018_task5\\pytorch\\main_pytorch\\full_train\\md_1000_iters.tar\n"
     ]
    },
    {
     "name": "stdout",
     "output_type": "stream",
     "text": [
      "<class 'h5py._hl.files.File'>\n",
      "This should not run\n",
      "Write out submission file to c:\\Users\\David\\Desktop\\dcase_5\\dcase2018_task5\\pytorch\\main_pytorch\\iteration=1000\\submission.csv\n"
     ]
    },
    {
     "name": "stderr",
     "output_type": "stream",
     "text": [
      "root        : INFO     Namespace(cuda=True, filename='c:\\\\Users\\\\David\\\\Desktop\\\\dcase_5\\\\dcase2018_task5\\\\pytorch\\\\main_pytorch', iteration=1000, mode='inference_testing_data', title='aug_shuffle_10_per_3_cuts', workspace='C:\\\\Users\\\\David\\\\Desktop\\\\dcase_5\\\\dcase2018_task5')\n",
      "root        : INFO     Load data time: 18.710749626159668\n",
      "root        : INFO     Training audios: 72984\n",
      "root        : INFO     Validation audios: 0\n",
      "root        : INFO     Load data time: 10.908904552459717\n",
      "root        : INFO     Inference time: 40.4903 s\n",
      "root        : INFO     Averaged accuracy: 0.8541\n",
      "root        : INFO     class_name                    f1_score\n",
      "root        : INFO     ---------------------------------------\n",
      "root        : INFO     absence                       0.8624\n",
      "root        : INFO     cooking                       0.8105\n",
      "root        : INFO     dishwashing                   0.6708\n",
      "root        : INFO     eating                        0.7586\n",
      "root        : INFO     other                         0.3210\n",
      "root        : INFO     social_activity               0.8740\n",
      "root        : INFO     vacuum_cleaner                0.9341\n",
      "root        : INFO     watching_tv                   0.9979\n",
      "root        : INFO     working                       0.7658\n",
      "root        : INFO     ---------------------------------------\n",
      "root        : INFO     Average                       0.7772\n"
     ]
    },
    {
     "name": "stdout",
     "output_type": "stream",
     "text": [
      "<class 'h5py._hl.files.File'>\n",
      "This should not run\n"
     ]
    },
    {
     "name": "stderr",
     "output_type": "stream",
     "text": [
      "root        : INFO     Namespace(augmentation_1='aug_shuffle_10_per_5_cuts', augmentation_2=None, cuda=True, dataset_dir='C:\\\\Users\\\\David\\\\Desktop\\\\dcase_5\\\\dcase2018_task5\\\\DCASE2018-task5-dev', filename='c:\\\\Users\\\\David\\\\Desktop\\\\dcase_5\\\\dcase2018_task5\\\\pytorch\\\\main_pytorch', holdout_fold=None, mini_data=False, mode='train', title=None, validate=False, workspace='C:\\\\Users\\\\David\\\\Desktop\\\\dcase_5\\\\dcase2018_task5')\n",
      "root        : INFO     Load data time: 21.54850673675537\n",
      "root        : INFO     Training audios: 80283\n",
      "root        : INFO     Validation audios: 0\n",
      "c:\\Users\\David\\.conda\\envs\\py3_dcase2018_task5_2\\lib\\site-packages\\sklearn\\metrics\\classification.py:1135: UndefinedMetricWarning: F-score is ill-defined and being set to 0.0 in labels with no predicted samples.\n",
      "  'precision', 'predicted', average, warn_for)\n",
      "root        : INFO     iteration: 0, train time: 0.0060 s, validate time: 4.4654 s\n",
      "root        : INFO     tr_acc: 0.2569, tr_f1_score: 0.0454, tr_loss: 3.2203\n",
      "root        : INFO     ------------------------------------\n",
      "root        : INFO     iteration: 200, train time: 24.7971 s, validate time: 3.6566 s\n",
      "root        : INFO     tr_acc: 0.8920, tr_f1_score: 0.8343, tr_loss: 0.3253\n",
      "root        : INFO     ------------------------------------\n",
      "root        : INFO     iteration: 400, train time: 25.3688 s, validate time: 3.6836 s\n",
      "root        : INFO     tr_acc: 0.9027, tr_f1_score: 0.8588, tr_loss: 0.2868\n",
      "root        : INFO     ------------------------------------\n",
      "root        : INFO     iteration: 600, train time: 25.3900 s, validate time: 3.6553 s\n",
      "root        : INFO     tr_acc: 0.9198, tr_f1_score: 0.8840, tr_loss: 0.2276\n",
      "root        : INFO     ------------------------------------\n",
      "root        : INFO     iteration: 800, train time: 25.3990 s, validate time: 3.7340 s\n",
      "root        : INFO     tr_acc: 0.9400, tr_f1_score: 0.9111, tr_loss: 0.1806\n",
      "root        : INFO     ------------------------------------\n",
      "root        : INFO     iteration: 1000, train time: 25.4397 s, validate time: 3.6682 s\n",
      "root        : INFO     tr_acc: 0.9545, tr_f1_score: 0.9336, tr_loss: 0.1422\n",
      "root        : INFO     ------------------------------------\n",
      "root        : INFO     Model saved to c:\\Users\\David\\Desktop\\dcase_5\\dcase2018_task5\\pytorch\\main_pytorch\\full_train\\md_1000_iters.tar\n"
     ]
    },
    {
     "name": "stdout",
     "output_type": "stream",
     "text": [
      "<class 'h5py._hl.files.File'>\n",
      "This should not run\n",
      "Write out submission file to c:\\Users\\David\\Desktop\\dcase_5\\dcase2018_task5\\pytorch\\main_pytorch\\iteration=1000\\submission.csv\n"
     ]
    },
    {
     "name": "stderr",
     "output_type": "stream",
     "text": [
      "root        : INFO     Namespace(cuda=True, filename='c:\\\\Users\\\\David\\\\Desktop\\\\dcase_5\\\\dcase2018_task5\\\\pytorch\\\\main_pytorch', iteration=1000, mode='inference_testing_data', title='aug_shuffle_10_per_5_cuts', workspace='C:\\\\Users\\\\David\\\\Desktop\\\\dcase_5\\\\dcase2018_task5')\n",
      "root        : INFO     Load data time: 17.84186601638794\n",
      "root        : INFO     Training audios: 72984\n",
      "root        : INFO     Validation audios: 0\n",
      "root        : INFO     Load data time: 11.286331176757812\n",
      "root        : INFO     Inference time: 40.7387 s\n",
      "root        : INFO     Averaged accuracy: 0.8237\n",
      "root        : INFO     class_name                    f1_score\n",
      "root        : INFO     ---------------------------------------\n",
      "root        : INFO     absence                       0.8073\n",
      "root        : INFO     cooking                       0.8204\n",
      "root        : INFO     dishwashing                   0.6324\n",
      "root        : INFO     eating                        0.7100\n",
      "root        : INFO     other                         0.2549\n",
      "root        : INFO     social_activity               0.9119\n",
      "root        : INFO     vacuum_cleaner                0.9185\n",
      "root        : INFO     watching_tv                   0.9988\n",
      "root        : INFO     working                       0.7445\n",
      "root        : INFO     ---------------------------------------\n",
      "root        : INFO     Average                       0.7554\n"
     ]
    },
    {
     "name": "stdout",
     "output_type": "stream",
     "text": [
      "<class 'h5py._hl.files.File'>\n",
      "This should not run\n"
     ]
    },
    {
     "name": "stderr",
     "output_type": "stream",
     "text": [
      "root        : INFO     Namespace(augmentation_1='aug_shuffle_10_per_7_cuts', augmentation_2=None, cuda=True, dataset_dir='C:\\\\Users\\\\David\\\\Desktop\\\\dcase_5\\\\dcase2018_task5\\\\DCASE2018-task5-dev', filename='c:\\\\Users\\\\David\\\\Desktop\\\\dcase_5\\\\dcase2018_task5\\\\pytorch\\\\main_pytorch', holdout_fold=None, mini_data=False, mode='train', title=None, validate=False, workspace='C:\\\\Users\\\\David\\\\Desktop\\\\dcase_5\\\\dcase2018_task5')\n",
      "root        : INFO     Load data time: 20.831663846969604\n",
      "root        : INFO     Training audios: 80283\n",
      "root        : INFO     Validation audios: 0\n",
      "c:\\Users\\David\\.conda\\envs\\py3_dcase2018_task5_2\\lib\\site-packages\\sklearn\\metrics\\classification.py:1135: UndefinedMetricWarning: F-score is ill-defined and being set to 0.0 in labels with no predicted samples.\n",
      "  'precision', 'predicted', average, warn_for)\n",
      "root        : INFO     iteration: 0, train time: 0.0070 s, validate time: 4.5169 s\n",
      "root        : INFO     tr_acc: 0.0283, tr_f1_score: 0.0065, tr_loss: 4.2063\n",
      "root        : INFO     ------------------------------------\n",
      "root        : INFO     iteration: 200, train time: 24.7730 s, validate time: 3.6936 s\n",
      "root        : INFO     tr_acc: 0.8989, tr_f1_score: 0.8541, tr_loss: 0.3158\n",
      "root        : INFO     ------------------------------------\n",
      "root        : INFO     iteration: 400, train time: 25.4129 s, validate time: 3.7018 s\n",
      "root        : INFO     tr_acc: 0.9095, tr_f1_score: 0.8654, tr_loss: 0.2680\n",
      "root        : INFO     ------------------------------------\n",
      "root        : INFO     iteration: 600, train time: 25.4104 s, validate time: 3.7012 s\n",
      "root        : INFO     tr_acc: 0.9302, tr_f1_score: 0.8969, tr_loss: 0.2125\n",
      "root        : INFO     ------------------------------------\n",
      "root        : INFO     iteration: 800, train time: 25.4360 s, validate time: 3.7031 s\n",
      "root        : INFO     tr_acc: 0.9355, tr_f1_score: 0.9011, tr_loss: 0.2003\n",
      "root        : INFO     ------------------------------------\n",
      "root        : INFO     iteration: 1000, train time: 25.4517 s, validate time: 3.6862 s\n",
      "root        : INFO     tr_acc: 0.9494, tr_f1_score: 0.9253, tr_loss: 0.1479\n",
      "root        : INFO     ------------------------------------\n",
      "root        : INFO     Model saved to c:\\Users\\David\\Desktop\\dcase_5\\dcase2018_task5\\pytorch\\main_pytorch\\full_train\\md_1000_iters.tar\n"
     ]
    },
    {
     "name": "stdout",
     "output_type": "stream",
     "text": [
      "<class 'h5py._hl.files.File'>\n",
      "This should not run\n",
      "Write out submission file to c:\\Users\\David\\Desktop\\dcase_5\\dcase2018_task5\\pytorch\\main_pytorch\\iteration=1000\\submission.csv\n"
     ]
    },
    {
     "name": "stderr",
     "output_type": "stream",
     "text": [
      "root        : INFO     Namespace(cuda=True, filename='c:\\\\Users\\\\David\\\\Desktop\\\\dcase_5\\\\dcase2018_task5\\\\pytorch\\\\main_pytorch', iteration=1000, mode='inference_testing_data', title='aug_shuffle_10_per_7_cuts', workspace='C:\\\\Users\\\\David\\\\Desktop\\\\dcase_5\\\\dcase2018_task5')\n",
      "root        : INFO     Load data time: 17.01567530632019\n",
      "root        : INFO     Training audios: 72984\n",
      "root        : INFO     Validation audios: 0\n",
      "root        : INFO     Load data time: 11.136766910552979\n",
      "root        : INFO     Inference time: 39.9883 s\n",
      "root        : INFO     Averaged accuracy: 0.8637\n",
      "root        : INFO     class_name                    f1_score\n",
      "root        : INFO     ---------------------------------------\n",
      "root        : INFO     absence                       0.8721\n",
      "root        : INFO     cooking                       0.8349\n",
      "root        : INFO     dishwashing                   0.6860\n",
      "root        : INFO     eating                        0.7734\n",
      "root        : INFO     other                         0.3686\n",
      "root        : INFO     social_activity               0.9222\n",
      "root        : INFO     vacuum_cleaner                0.9092\n",
      "root        : INFO     watching_tv                   0.9983\n",
      "root        : INFO     working                       0.7750\n",
      "root        : INFO     ---------------------------------------\n",
      "root        : INFO     Average                       0.7933\n"
     ]
    }
   ],
   "source": [
    "!python $BACKEND/main_pytorch.py train --dataset_dir=$DEV_DATASET_DIR --workspace=$WORKSPACE --augmentation_1=\"aug_shuffle_10_per_3_cuts\" --cuda\n",
    "!python $BACKEND/main_pytorch.py inference_testing_data --workspace=$WORKSPACE --iteration=1000 --title=\"aug_shuffle_10_per_3_cuts\" --cuda\n",
    "\n",
    "!python $BACKEND/main_pytorch.py train --dataset_dir=$DEV_DATASET_DIR --workspace=$WORKSPACE --augmentation_1=\"aug_shuffle_10_per_5_cuts\" --cuda\n",
    "!python $BACKEND/main_pytorch.py inference_testing_data --workspace=$WORKSPACE --iteration=1000 --title=\"aug_shuffle_10_per_5_cuts\" --cuda\n",
    "\n",
    "!python $BACKEND/main_pytorch.py train --dataset_dir=$DEV_DATASET_DIR --workspace=$WORKSPACE --augmentation_1=\"aug_shuffle_10_per_7_cuts\" --cuda\n",
    "!python $BACKEND/main_pytorch.py inference_testing_data --workspace=$WORKSPACE --iteration=1000 --title=\"aug_shuffle_10_per_7_cuts\" --cuda"
   ]
  },
  {
   "cell_type": "code",
   "execution_count": 6,
   "metadata": {},
   "outputs": [
    {
     "name": "stdout",
     "output_type": "stream",
     "text": [
      "<class 'h5py._hl.files.File'>\n",
      "This should not run\n"
     ]
    },
    {
     "name": "stderr",
     "output_type": "stream",
     "text": [
      "root        : INFO     Namespace(augmentation_1='aug_shuffle_20_per_3_cuts', augmentation_2=None, cuda=True, dataset_dir='C:\\\\Users\\\\David\\\\Desktop\\\\dcase_5\\\\dcase2018_task5\\\\DCASE2018-task5-dev', filename='c:\\\\Users\\\\David\\\\Desktop\\\\dcase_5\\\\dcase2018_task5\\\\pytorch\\\\main_pytorch', holdout_fold=None, mini_data=False, mode='train', title=None, validate=False, workspace='C:\\\\Users\\\\David\\\\Desktop\\\\dcase_5\\\\dcase2018_task5')\n",
      "root        : INFO     Load data time: 23.940815448760986\n",
      "root        : INFO     Training audios: 87581\n",
      "root        : INFO     Validation audios: 0\n",
      "c:\\Users\\David\\.conda\\envs\\py3_dcase2018_task5_2\\lib\\site-packages\\sklearn\\metrics\\classification.py:1135: UndefinedMetricWarning: F-score is ill-defined and being set to 0.0 in labels with no predicted samples.\n",
      "  'precision', 'predicted', average, warn_for)\n",
      "root        : INFO     iteration: 0, train time: 0.0070 s, validate time: 4.4636 s\n",
      "root        : INFO     tr_acc: 0.0266, tr_f1_score: 0.0058, tr_loss: 4.8657\n",
      "root        : INFO     ------------------------------------\n",
      "root        : INFO     iteration: 200, train time: 24.8122 s, validate time: 3.6441 s\n",
      "root        : INFO     tr_acc: 0.8898, tr_f1_score: 0.8377, tr_loss: 0.3471\n",
      "root        : INFO     ------------------------------------\n",
      "root        : INFO     iteration: 400, train time: 25.3750 s, validate time: 3.6263 s\n",
      "root        : INFO     tr_acc: 0.9184, tr_f1_score: 0.8875, tr_loss: 0.2375\n",
      "root        : INFO     ------------------------------------\n",
      "root        : INFO     iteration: 600, train time: 25.4193 s, validate time: 3.6881 s\n",
      "root        : INFO     tr_acc: 0.9263, tr_f1_score: 0.8941, tr_loss: 0.2147\n",
      "root        : INFO     ------------------------------------\n",
      "root        : INFO     iteration: 800, train time: 25.4719 s, validate time: 3.9049 s\n",
      "root        : INFO     tr_acc: 0.9317, tr_f1_score: 0.9081, tr_loss: 0.1938\n",
      "root        : INFO     ------------------------------------\n",
      "root        : INFO     iteration: 1000, train time: 25.4763 s, validate time: 3.7260 s\n",
      "root        : INFO     tr_acc: 0.9291, tr_f1_score: 0.9042, tr_loss: 0.2096\n",
      "root        : INFO     ------------------------------------\n",
      "root        : INFO     Model saved to c:\\Users\\David\\Desktop\\dcase_5\\dcase2018_task5\\pytorch\\main_pytorch\\full_train\\md_1000_iters.tar\n"
     ]
    },
    {
     "name": "stdout",
     "output_type": "stream",
     "text": [
      "<class 'h5py._hl.files.File'>\n",
      "This should not run\n",
      "Write out submission file to c:\\Users\\David\\Desktop\\dcase_5\\dcase2018_task5\\pytorch\\main_pytorch\\iteration=1000\\submission.csv\n"
     ]
    },
    {
     "name": "stderr",
     "output_type": "stream",
     "text": [
      "root        : INFO     Namespace(cuda=True, filename='c:\\\\Users\\\\David\\\\Desktop\\\\dcase_5\\\\dcase2018_task5\\\\pytorch\\\\main_pytorch', iteration=1000, mode='inference_testing_data', title='aug_shuffle_20_per_3_cuts', workspace='C:\\\\Users\\\\David\\\\Desktop\\\\dcase_5\\\\dcase2018_task5')\n",
      "root        : INFO     Load data time: 17.273842334747314\n",
      "root        : INFO     Training audios: 72984\n",
      "root        : INFO     Validation audios: 0\n",
      "root        : INFO     Load data time: 11.240527629852295\n",
      "root        : INFO     Inference time: 41.1745 s\n",
      "root        : INFO     Averaged accuracy: 0.7782\n",
      "root        : INFO     class_name                    f1_score\n",
      "root        : INFO     ---------------------------------------\n",
      "root        : INFO     absence                       0.6677\n",
      "root        : INFO     cooking                       0.7295\n",
      "root        : INFO     dishwashing                   0.6480\n",
      "root        : INFO     eating                        0.7402\n",
      "root        : INFO     other                         0.3233\n",
      "root        : INFO     social_activity               0.7576\n",
      "root        : INFO     vacuum_cleaner                0.8977\n",
      "root        : INFO     watching_tv                   0.9982\n",
      "root        : INFO     working                       0.6928\n",
      "root        : INFO     ---------------------------------------\n",
      "root        : INFO     Average                       0.7172\n"
     ]
    },
    {
     "name": "stdout",
     "output_type": "stream",
     "text": [
      "<class 'h5py._hl.files.File'>\n",
      "This should not run\n"
     ]
    },
    {
     "name": "stderr",
     "output_type": "stream",
     "text": [
      "root        : INFO     Namespace(augmentation_1='aug_shuffle_20_per_5_cuts', augmentation_2=None, cuda=True, dataset_dir='C:\\\\Users\\\\David\\\\Desktop\\\\dcase_5\\\\dcase2018_task5\\\\DCASE2018-task5-dev', filename='c:\\\\Users\\\\David\\\\Desktop\\\\dcase_5\\\\dcase2018_task5\\\\pytorch\\\\main_pytorch', holdout_fold=None, mini_data=False, mode='train', title=None, validate=False, workspace='C:\\\\Users\\\\David\\\\Desktop\\\\dcase_5\\\\dcase2018_task5')\n",
      "root        : INFO     Load data time: 23.61034893989563\n",
      "root        : INFO     Training audios: 87581\n",
      "root        : INFO     Validation audios: 0\n",
      "c:\\Users\\David\\.conda\\envs\\py3_dcase2018_task5_2\\lib\\site-packages\\sklearn\\metrics\\classification.py:1135: UndefinedMetricWarning: F-score is ill-defined and being set to 0.0 in labels with no predicted samples.\n",
      "  'precision', 'predicted', average, warn_for)\n",
      "root        : INFO     iteration: 0, train time: 0.0070 s, validate time: 4.6675 s\n",
      "root        : INFO     tr_acc: 0.0272, tr_f1_score: 0.0059, tr_loss: 7.7837\n",
      "root        : INFO     ------------------------------------\n",
      "root        : INFO     iteration: 200, train time: 24.7145 s, validate time: 3.6247 s\n",
      "root        : INFO     tr_acc: 0.8906, tr_f1_score: 0.8417, tr_loss: 0.3280\n",
      "root        : INFO     ------------------------------------\n",
      "root        : INFO     iteration: 400, train time: 25.3920 s, validate time: 3.7572 s\n",
      "root        : INFO     tr_acc: 0.9175, tr_f1_score: 0.8724, tr_loss: 0.2421\n",
      "root        : INFO     ------------------------------------\n",
      "root        : INFO     iteration: 600, train time: 25.3893 s, validate time: 3.6773 s\n",
      "root        : INFO     tr_acc: 0.9287, tr_f1_score: 0.8868, tr_loss: 0.2155\n",
      "root        : INFO     ------------------------------------\n",
      "root        : INFO     iteration: 800, train time: 25.3858 s, validate time: 3.7171 s\n",
      "root        : INFO     tr_acc: 0.9325, tr_f1_score: 0.8983, tr_loss: 0.1999\n",
      "root        : INFO     ------------------------------------\n",
      "root        : INFO     iteration: 1000, train time: 25.4416 s, validate time: 3.6652 s\n",
      "root        : INFO     tr_acc: 0.9281, tr_f1_score: 0.9002, tr_loss: 0.2108\n",
      "root        : INFO     ------------------------------------\n",
      "root        : INFO     Model saved to c:\\Users\\David\\Desktop\\dcase_5\\dcase2018_task5\\pytorch\\main_pytorch\\full_train\\md_1000_iters.tar\n"
     ]
    },
    {
     "name": "stdout",
     "output_type": "stream",
     "text": [
      "<class 'h5py._hl.files.File'>\n",
      "This should not run\n",
      "Write out submission file to c:\\Users\\David\\Desktop\\dcase_5\\dcase2018_task5\\pytorch\\main_pytorch\\iteration=1000\\submission.csv\n"
     ]
    },
    {
     "name": "stderr",
     "output_type": "stream",
     "text": [
      "root        : INFO     Namespace(cuda=True, filename='c:\\\\Users\\\\David\\\\Desktop\\\\dcase_5\\\\dcase2018_task5\\\\pytorch\\\\main_pytorch', iteration=1000, mode='inference_testing_data', title='aug_shuffle_20_per_5_cuts', workspace='C:\\\\Users\\\\David\\\\Desktop\\\\dcase_5\\\\dcase2018_task5')\n",
      "root        : INFO     Load data time: 17.646755695343018\n",
      "root        : INFO     Training audios: 72984\n",
      "root        : INFO     Validation audios: 0\n",
      "root        : INFO     Load data time: 11.67172646522522\n",
      "root        : INFO     Inference time: 40.9794 s\n",
      "root        : INFO     Averaged accuracy: 0.7370\n",
      "root        : INFO     class_name                    f1_score\n",
      "root        : INFO     ---------------------------------------\n",
      "root        : INFO     absence                       0.6364\n",
      "root        : INFO     cooking                       0.7104\n",
      "root        : INFO     dishwashing                   0.4788\n",
      "root        : INFO     eating                        0.4879\n",
      "root        : INFO     other                         0.2789\n",
      "root        : INFO     social_activity               0.6030\n",
      "root        : INFO     vacuum_cleaner                0.8412\n",
      "root        : INFO     watching_tv                   0.9982\n",
      "root        : INFO     working                       0.6765\n",
      "root        : INFO     ---------------------------------------\n",
      "root        : INFO     Average                       0.6346\n"
     ]
    },
    {
     "name": "stdout",
     "output_type": "stream",
     "text": [
      "<class 'h5py._hl.files.File'>\n",
      "This should not run\n"
     ]
    },
    {
     "name": "stderr",
     "output_type": "stream",
     "text": [
      "root        : INFO     Namespace(augmentation_1='aug_shuffle_20_per_7_cuts', augmentation_2=None, cuda=True, dataset_dir='C:\\\\Users\\\\David\\\\Desktop\\\\dcase_5\\\\dcase2018_task5\\\\DCASE2018-task5-dev', filename='c:\\\\Users\\\\David\\\\Desktop\\\\dcase_5\\\\dcase2018_task5\\\\pytorch\\\\main_pytorch', holdout_fold=None, mini_data=False, mode='train', title=None, validate=False, workspace='C:\\\\Users\\\\David\\\\Desktop\\\\dcase_5\\\\dcase2018_task5')\n",
      "root        : INFO     Load data time: 23.286102533340454\n",
      "root        : INFO     Training audios: 87581\n",
      "root        : INFO     Validation audios: 0\n",
      "c:\\Users\\David\\.conda\\envs\\py3_dcase2018_task5_2\\lib\\site-packages\\sklearn\\metrics\\classification.py:1135: UndefinedMetricWarning: F-score is ill-defined and being set to 0.0 in labels with no predicted samples.\n",
      "  'precision', 'predicted', average, warn_for)\n",
      "root        : INFO     iteration: 0, train time: 0.0070 s, validate time: 4.5418 s\n",
      "root        : INFO     tr_acc: 0.0398, tr_f1_score: 0.0300, tr_loss: 2.7922\n",
      "root        : INFO     ------------------------------------\n",
      "root        : INFO     iteration: 200, train time: 25.0611 s, validate time: 3.6572 s\n",
      "root        : INFO     tr_acc: 0.8948, tr_f1_score: 0.8448, tr_loss: 0.3076\n",
      "root        : INFO     ------------------------------------\n",
      "root        : INFO     iteration: 400, train time: 25.3706 s, validate time: 3.6573 s\n",
      "root        : INFO     tr_acc: 0.9078, tr_f1_score: 0.8609, tr_loss: 0.2447\n",
      "root        : INFO     ------------------------------------\n",
      "root        : INFO     iteration: 600, train time: 25.3861 s, validate time: 3.6742 s\n",
      "root        : INFO     tr_acc: 0.8842, tr_f1_score: 0.8487, tr_loss: 0.3242\n",
      "root        : INFO     ------------------------------------\n",
      "root        : INFO     iteration: 800, train time: 25.3925 s, validate time: 3.7111 s\n",
      "root        : INFO     tr_acc: 0.9319, tr_f1_score: 0.8972, tr_loss: 0.2011\n",
      "root        : INFO     ------------------------------------\n",
      "root        : INFO     iteration: 1000, train time: 25.4571 s, validate time: 3.6583 s\n",
      "root        : INFO     tr_acc: 0.9277, tr_f1_score: 0.9031, tr_loss: 0.2135\n",
      "root        : INFO     ------------------------------------\n",
      "root        : INFO     Model saved to c:\\Users\\David\\Desktop\\dcase_5\\dcase2018_task5\\pytorch\\main_pytorch\\full_train\\md_1000_iters.tar\n"
     ]
    },
    {
     "name": "stdout",
     "output_type": "stream",
     "text": [
      "<class 'h5py._hl.files.File'>"
     ]
    },
    {
     "name": "stderr",
     "output_type": "stream",
     "text": [
      "root        : INFO     Namespace(cuda=True, filename='c:\\\\Users\\\\David\\\\Desktop\\\\dcase_5\\\\dcase2018_task5\\\\pytorch\\\\main_pytorch', iteration=1000, mode='inference_testing_data', title='aug_shuffle_20_per_7_cuts', workspace='C:\\\\Users\\\\David\\\\Desktop\\\\dcase_5\\\\dcase2018_task5')\n",
      "root        : INFO     Load data time: 18.5045223236084\n",
      "root        : INFO     Training audios: 72984\n",
      "root        : INFO     Validation audios: 0\n",
      "root        : INFO     Load data time: 11.219774007797241\n",
      "root        : INFO     Inference time: 41.0955 s\n",
      "root        : INFO     Averaged accuracy: 0.7492\n",
      "root        : INFO     class_name                    f1_score\n",
      "root        : INFO     ---------------------------------------\n",
      "root        : INFO     absence                       0.6581\n",
      "root        : INFO     cooking                       0.7327\n",
      "root        : INFO     dishwashing                   0.6048\n",
      "root        : INFO     eating                        0.3496\n",
      "root        : INFO     other                         0.2995\n",
      "root        : INFO     social_activity               0.7575\n",
      "root        : INFO     vacuum_cleaner                0.8410\n",
      "root        : INFO     watching_tv                   0.9957\n",
      "root        : INFO     working                       0.6793\n",
      "root        : INFO     ---------------------------------------\n",
      "root        : INFO     Average                       0.6575\n"
     ]
    },
    {
     "name": "stdout",
     "output_type": "stream",
     "text": [
      "\n",
      "This should not run\n",
      "Write out submission file to c:\\Users\\David\\Desktop\\dcase_5\\dcase2018_task5\\pytorch\\main_pytorch\\iteration=1000\\submission.csv\n"
     ]
    }
   ],
   "source": [
    "!python $BACKEND/main_pytorch.py train --dataset_dir=$DEV_DATASET_DIR --workspace=$WORKSPACE --augmentation_1=\"aug_shuffle_20_per_3_cuts\" --cuda\n",
    "!python $BACKEND/main_pytorch.py inference_testing_data --workspace=$WORKSPACE --iteration=1000 --title=\"aug_shuffle_20_per_3_cuts\" --cuda\n",
    "\n",
    "!python $BACKEND/main_pytorch.py train --dataset_dir=$DEV_DATASET_DIR --workspace=$WORKSPACE --augmentation_1=\"aug_shuffle_20_per_5_cuts\" --cuda\n",
    "!python $BACKEND/main_pytorch.py inference_testing_data --workspace=$WORKSPACE --iteration=1000 --title=\"aug_shuffle_20_per_5_cuts\" --cuda\n",
    "\n",
    "!python $BACKEND/main_pytorch.py train --dataset_dir=$DEV_DATASET_DIR --workspace=$WORKSPACE --augmentation_1=\"aug_shuffle_20_per_7_cuts\" --cuda\n",
    "!python $BACKEND/main_pytorch.py inference_testing_data --workspace=$WORKSPACE --iteration=1000 --title=\"aug_shuffle_20_per_7_cuts\" --cuda"
   ]
  },
  {
   "cell_type": "code",
   "execution_count": 7,
   "metadata": {},
   "outputs": [
    {
     "name": "stderr",
     "output_type": "stream",
     "text": [
      "root        : INFO     Namespace(augmentation_1='aug_mixer_10_per_3_cuts_2_mix', augmentation_2=None, cuda=True, dataset_dir='C:\\\\Users\\\\David\\\\Desktop\\\\dcase_5\\\\dcase2018_task5\\\\DCASE2018-task5-dev', filename='c:\\\\Users\\\\David\\\\Desktop\\\\dcase_5\\\\dcase2018_task5\\\\pytorch\\\\main_pytorch', holdout_fold=None, mini_data=False, mode='train', title=None, validate=False, workspace='C:\\\\Users\\\\David\\\\Desktop\\\\dcase_5\\\\dcase2018_task5')\n",
      "root        : INFO     Load data time: 20.71808886528015\n",
      "root        : INFO     Training audios: 74824\n",
      "root        : INFO     Validation audios: 0\n",
      "c:\\Users\\David\\.conda\\envs\\py3_dcase2018_task5_2\\lib\\site-packages\\sklearn\\metrics\\classification.py:1135: UndefinedMetricWarning: F-score is ill-defined and being set to 0.0 in labels with no predicted samples.\n",
      "  'precision', 'predicted', average, warn_for)\n",
      "root        : INFO     iteration: 0, train time: 0.0060 s, validate time: 4.3952 s\n",
      "root        : INFO     tr_acc: 0.0088, tr_f1_score: 0.0151, tr_loss: 3.6706\n",
      "root        : INFO     ------------------------------------\n",
      "root        : INFO     iteration: 200, train time: 24.9270 s, validate time: 3.6402 s\n",
      "root        : INFO     tr_acc: 0.9083, tr_f1_score: 0.8588, tr_loss: 0.2749\n",
      "root        : INFO     ------------------------------------\n",
      "root        : INFO     iteration: 400, train time: 25.3789 s, validate time: 3.6463 s\n",
      "root        : INFO     tr_acc: 0.9250, tr_f1_score: 0.8939, tr_loss: 0.2269\n",
      "root        : INFO     ------------------------------------\n",
      "root        : INFO     iteration: 600, train time: 25.3807 s, validate time: 3.7001 s\n",
      "root        : INFO     tr_acc: 0.9341, tr_f1_score: 0.8995, tr_loss: 0.1962\n",
      "root        : INFO     ------------------------------------\n",
      "root        : INFO     iteration: 800, train time: 25.4310 s, validate time: 3.6802 s\n",
      "root        : INFO     tr_acc: 0.9347, tr_f1_score: 0.9147, tr_loss: 0.1984\n",
      "root        : INFO     ------------------------------------\n",
      "root        : INFO     iteration: 1000, train time: 25.4395 s, validate time: 3.8543 s\n",
      "root        : INFO     tr_acc: 0.9497, tr_f1_score: 0.9318, tr_loss: 0.1467\n",
      "root        : INFO     ------------------------------------\n",
      "root        : INFO     Model saved to c:\\Users\\David\\Desktop\\dcase_5\\dcase2018_task5\\pytorch\\main_pytorch\\full_train\\md_1000_iters.tar\n"
     ]
    },
    {
     "name": "stdout",
     "output_type": "stream",
     "text": [
      "<class 'h5py._hl.files.File'>\n",
      "This should not run\n",
      "<class 'h5py._hl.files.File'>\n",
      "This should not run\n",
      "Write out submission file to c:\\Users\\David\\Desktop\\dcase_5\\dcase2018_task5\\pytorch\\main_pytorch\\iteration=1000\\submission.csv\n"
     ]
    },
    {
     "name": "stderr",
     "output_type": "stream",
     "text": [
      "root        : INFO     Namespace(cuda=True, filename='c:\\\\Users\\\\David\\\\Desktop\\\\dcase_5\\\\dcase2018_task5\\\\pytorch\\\\main_pytorch', iteration=1000, mode='inference_testing_data', title='aug_mixer_10_per_3_cuts', workspace='C:\\\\Users\\\\David\\\\Desktop\\\\dcase_5\\\\dcase2018_task5')\n",
      "root        : INFO     Load data time: 17.202960729599\n",
      "root        : INFO     Training audios: 72984\n",
      "root        : INFO     Validation audios: 0\n",
      "root        : INFO     Load data time: 10.985826015472412\n",
      "root        : INFO     Inference time: 40.2874 s\n",
      "root        : INFO     Averaged accuracy: 0.8892\n",
      "root        : INFO     class_name                    f1_score\n",
      "root        : INFO     ---------------------------------------\n",
      "root        : INFO     absence                       0.8701\n",
      "root        : INFO     cooking                       0.9141\n",
      "root        : INFO     dishwashing                   0.7835\n",
      "root        : INFO     eating                        0.7861\n",
      "root        : INFO     other                         0.4945\n",
      "root        : INFO     social_activity               0.9575\n",
      "root        : INFO     vacuum_cleaner                0.9338\n",
      "root        : INFO     watching_tv                   0.9987\n",
      "root        : INFO     working                       0.8182\n",
      "root        : INFO     ---------------------------------------\n",
      "root        : INFO     Average                       0.8396\n"
     ]
    },
    {
     "name": "stdout",
     "output_type": "stream",
     "text": [
      "<class 'h5py._hl.files.File'>\n",
      "This should not run\n"
     ]
    },
    {
     "name": "stderr",
     "output_type": "stream",
     "text": [
      "root        : INFO     Namespace(augmentation_1='aug_mixer_10_per_5_cuts_2_mix', augmentation_2=None, cuda=True, dataset_dir='C:\\\\Users\\\\David\\\\Desktop\\\\dcase_5\\\\dcase2018_task5\\\\DCASE2018-task5-dev', filename='c:\\\\Users\\\\David\\\\Desktop\\\\dcase_5\\\\dcase2018_task5\\\\pytorch\\\\main_pytorch', holdout_fold=None, mini_data=False, mode='train', title=None, validate=False, workspace='C:\\\\Users\\\\David\\\\Desktop\\\\dcase_5\\\\dcase2018_task5')\n",
      "root        : INFO     Load data time: 20.745068788528442\n",
      "root        : INFO     Training audios: 74824\n",
      "root        : INFO     Validation audios: 0\n",
      "c:\\Users\\David\\.conda\\envs\\py3_dcase2018_task5_2\\lib\\site-packages\\sklearn\\metrics\\classification.py:1135: UndefinedMetricWarning: F-score is ill-defined and being set to 0.0 in labels with no predicted samples.\n",
      "  'precision', 'predicted', average, warn_for)\n",
      "root        : INFO     iteration: 0, train time: 0.0070 s, validate time: 4.6443 s\n",
      "root        : INFO     tr_acc: 0.0120, tr_f1_score: 0.0062, tr_loss: 4.4617\n",
      "root        : INFO     ------------------------------------\n",
      "root        : INFO     iteration: 200, train time: 24.9506 s, validate time: 3.8208 s\n",
      "root        : INFO     tr_acc: 0.9155, tr_f1_score: 0.8644, tr_loss: 0.2781\n",
      "root        : INFO     ------------------------------------\n",
      "root        : INFO     iteration: 400, train time: 25.4188 s, validate time: 3.6599 s\n",
      "root        : INFO     tr_acc: 0.9272, tr_f1_score: 0.8873, tr_loss: 0.2251\n",
      "root        : INFO     ------------------------------------\n",
      "root        : INFO     iteration: 600, train time: 25.4247 s, validate time: 3.6562 s\n",
      "root        : INFO     tr_acc: 0.9409, tr_f1_score: 0.9092, tr_loss: 0.1858\n",
      "root        : INFO     ------------------------------------\n",
      "root        : INFO     iteration: 800, train time: 25.4668 s, validate time: 3.6781 s\n",
      "root        : INFO     tr_acc: 0.9381, tr_f1_score: 0.9101, tr_loss: 0.1898\n",
      "root        : INFO     ------------------------------------\n",
      "root        : INFO     iteration: 1000, train time: 25.4788 s, validate time: 3.6964 s\n",
      "root        : INFO     tr_acc: 0.9508, tr_f1_score: 0.9311, tr_loss: 0.1495\n",
      "root        : INFO     ------------------------------------\n",
      "root        : INFO     Model saved to c:\\Users\\David\\Desktop\\dcase_5\\dcase2018_task5\\pytorch\\main_pytorch\\full_train\\md_1000_iters.tar\n"
     ]
    },
    {
     "name": "stdout",
     "output_type": "stream",
     "text": [
      "<class 'h5py._hl.files.File'>\n",
      "This should not run\n",
      "Write out submission file to c:\\Users\\David\\Desktop\\dcase_5\\dcase2018_task5\\pytorch\\main_pytorch\\iteration=1000\\submission.csv\n"
     ]
    },
    {
     "name": "stderr",
     "output_type": "stream",
     "text": [
      "root        : INFO     Namespace(cuda=True, filename='c:\\\\Users\\\\David\\\\Desktop\\\\dcase_5\\\\dcase2018_task5\\\\pytorch\\\\main_pytorch', iteration=1000, mode='inference_testing_data', title='aug_mixer_10_per_5_cuts_2_mix', workspace='C:\\\\Users\\\\David\\\\Desktop\\\\dcase_5\\\\dcase2018_task5')\n",
      "root        : INFO     Load data time: 17.330278158187866\n",
      "root        : INFO     Training audios: 72984\n",
      "root        : INFO     Validation audios: 0\n",
      "root        : INFO     Load data time: 10.91810393333435\n",
      "root        : INFO     Inference time: 40.3823 s\n",
      "root        : INFO     Averaged accuracy: 0.8764\n",
      "root        : INFO     class_name                    f1_score\n",
      "root        : INFO     ---------------------------------------\n",
      "root        : INFO     absence                       0.8437\n",
      "root        : INFO     cooking                       0.9166\n",
      "root        : INFO     dishwashing                   0.7723\n",
      "root        : INFO     eating                        0.8038\n",
      "root        : INFO     other                         0.4458\n",
      "root        : INFO     social_activity               0.9404\n",
      "root        : INFO     vacuum_cleaner                0.9416\n",
      "root        : INFO     watching_tv                   0.9986\n",
      "root        : INFO     working                       0.8010\n",
      "root        : INFO     ---------------------------------------\n",
      "root        : INFO     Average                       0.8293\n"
     ]
    },
    {
     "name": "stdout",
     "output_type": "stream",
     "text": [
      "<class 'h5py._hl.files.File'>\n",
      "This should not run\n"
     ]
    },
    {
     "name": "stderr",
     "output_type": "stream",
     "text": [
      "root        : INFO     Namespace(augmentation_1='aug_mixer_10_per_7_cuts_2_mix', augmentation_2=None, cuda=True, dataset_dir='C:\\\\Users\\\\David\\\\Desktop\\\\dcase_5\\\\dcase2018_task5\\\\DCASE2018-task5-dev', filename='c:\\\\Users\\\\David\\\\Desktop\\\\dcase_5\\\\dcase2018_task5\\\\pytorch\\\\main_pytorch', holdout_fold=None, mini_data=False, mode='train', title=None, validate=False, workspace='C:\\\\Users\\\\David\\\\Desktop\\\\dcase_5\\\\dcase2018_task5')\n",
      "root        : INFO     Load data time: 20.66948652267456\n",
      "root        : INFO     Training audios: 74824\n",
      "root        : INFO     Validation audios: 0\n",
      "c:\\Users\\David\\.conda\\envs\\py3_dcase2018_task5_2\\lib\\site-packages\\sklearn\\metrics\\classification.py:1135: UndefinedMetricWarning: F-score is ill-defined and being set to 0.0 in labels with no predicted samples.\n",
      "  'precision', 'predicted', average, warn_for)\n",
      "root        : INFO     iteration: 0, train time: 0.0060 s, validate time: 4.6426 s\n",
      "root        : INFO     tr_acc: 0.0289, tr_f1_score: 0.0062, tr_loss: 4.5202\n",
      "root        : INFO     ------------------------------------\n",
      "root        : INFO     iteration: 200, train time: 24.8581 s, validate time: 3.7109 s\n",
      "root        : INFO     tr_acc: 0.9027, tr_f1_score: 0.8579, tr_loss: 0.2990\n",
      "root        : INFO     ------------------------------------\n",
      "root        : INFO     iteration: 400, train time: 25.4175 s, validate time: 3.7009 s\n",
      "root        : INFO     tr_acc: 0.9273, tr_f1_score: 0.8862, tr_loss: 0.2388\n",
      "root        : INFO     ------------------------------------\n",
      "root        : INFO     iteration: 600, train time: 25.4147 s, validate time: 3.8018 s\n",
      "root        : INFO     tr_acc: 0.9386, tr_f1_score: 0.9072, tr_loss: 0.1860\n",
      "root        : INFO     ------------------------------------\n",
      "root        : INFO     iteration: 800, train time: 25.5136 s, validate time: 3.7150 s\n",
      "root        : INFO     tr_acc: 0.9287, tr_f1_score: 0.8994, tr_loss: 0.2112\n",
      "root        : INFO     ------------------------------------\n",
      "root        : INFO     iteration: 1000, train time: 25.4929 s, validate time: 3.7071 s\n",
      "root        : INFO     tr_acc: 0.9519, tr_f1_score: 0.9307, tr_loss: 0.1434\n",
      "root        : INFO     ------------------------------------\n",
      "root        : INFO     Model saved to c:\\Users\\David\\Desktop\\dcase_5\\dcase2018_task5\\pytorch\\main_pytorch\\full_train\\md_1000_iters.tar\n"
     ]
    },
    {
     "name": "stdout",
     "output_type": "stream",
     "text": [
      "<class 'h5py._hl.files.File'>\n",
      "This should not run\n",
      "Write out submission file to c:\\Users\\David\\Desktop\\dcase_5\\dcase2018_task5\\pytorch\\main_pytorch\\iteration=1000\\submission.csv\n"
     ]
    },
    {
     "name": "stderr",
     "output_type": "stream",
     "text": [
      "root        : INFO     Namespace(cuda=True, filename='c:\\\\Users\\\\David\\\\Desktop\\\\dcase_5\\\\dcase2018_task5\\\\pytorch\\\\main_pytorch', iteration=1000, mode='inference_testing_data', title='aug_mixer_10_per_7_cuts_2_mix', workspace='C:\\\\Users\\\\David\\\\Desktop\\\\dcase_5\\\\dcase2018_task5')\n",
      "root        : INFO     Load data time: 19.647523880004883\n",
      "root        : INFO     Training audios: 72984\n",
      "root        : INFO     Validation audios: 0\n",
      "root        : INFO     Load data time: 10.937374830245972\n",
      "root        : INFO     Inference time: 40.6225 s\n",
      "root        : INFO     Averaged accuracy: 0.8667\n",
      "root        : INFO     class_name                    f1_score\n",
      "root        : INFO     ---------------------------------------\n",
      "root        : INFO     absence                       0.8332\n",
      "root        : INFO     cooking                       0.9108\n",
      "root        : INFO     dishwashing                   0.7587\n",
      "root        : INFO     eating                        0.7805\n",
      "root        : INFO     other                         0.4088\n",
      "root        : INFO     social_activity               0.9298\n",
      "root        : INFO     vacuum_cleaner                0.9378\n",
      "root        : INFO     watching_tv                   0.9982\n",
      "root        : INFO     working                       0.7925\n",
      "root        : INFO     ---------------------------------------\n",
      "root        : INFO     Average                       0.8167\n"
     ]
    }
   ],
   "source": [
    "!python $BACKEND/main_pytorch.py train --dataset_dir=$DEV_DATASET_DIR --workspace=$WORKSPACE --augmentation_1=\"aug_mixer_10_per_3_cuts_2_mix\" --cuda\n",
    "!python $BACKEND/main_pytorch.py inference_testing_data --workspace=$WORKSPACE --iteration=1000 --title=\"aug_mixer_10_per_3_cuts_2_mix\" --cuda\n",
    "\n",
    "!python $BACKEND/main_pytorch.py train --dataset_dir=$DEV_DATASET_DIR --workspace=$WORKSPACE --augmentation_1=\"aug_mixer_10_per_5_cuts_2_mix\" --cuda\n",
    "!python $BACKEND/main_pytorch.py inference_testing_data --workspace=$WORKSPACE --iteration=1000 --title=\"aug_mixer_10_per_5_cuts_2_mix\" --cuda\n",
    "\n",
    "!python $BACKEND/main_pytorch.py train --dataset_dir=$DEV_DATASET_DIR --workspace=$WORKSPACE --augmentation_1=\"aug_mixer_10_per_7_cuts_2_mix\" --cuda\n",
    "!python $BACKEND/main_pytorch.py inference_testing_data --workspace=$WORKSPACE --iteration=1000 --title=\"aug_mixer_10_per_7_cuts_2_mix\" --cuda"
   ]
  },
  {
   "cell_type": "code",
   "execution_count": 10,
   "metadata": {},
   "outputs": [
    {
     "name": "stdout",
     "output_type": "stream",
     "text": [
      "<class 'h5py._hl.files.File'>\n",
      "This should not run\n"
     ]
    },
    {
     "name": "stderr",
     "output_type": "stream",
     "text": [
      "root        : INFO     Namespace(augmentation_1='aug_mixer_10_per_3_cuts_2_mix', augmentation_2=None, cuda=True, dataset_dir='C:\\\\Users\\\\David\\\\Desktop\\\\dcase_5\\\\dcase2018_task5\\\\DCASE2018-task5-dev', filename='c:\\\\Users\\\\David\\\\Desktop\\\\dcase_5\\\\dcase2018_task5\\\\pytorch\\\\main_pytorch', holdout_fold=None, mini_data=False, mode='train', title=None, validate=False, workspace='C:\\\\Users\\\\David\\\\Desktop\\\\dcase_5\\\\dcase2018_task5')\n",
      "root        : INFO     Load data time: 22.819268941879272\n",
      "root        : INFO     Training audios: 74824\n",
      "root        : INFO     Validation audios: 0\n",
      "c:\\Users\\David\\.conda\\envs\\py3_dcase2018_task5_2\\lib\\site-packages\\sklearn\\metrics\\classification.py:1135: UndefinedMetricWarning: F-score is ill-defined and being set to 0.0 in labels with no predicted samples.\n",
      "  'precision', 'predicted', average, warn_for)\n",
      "root        : INFO     iteration: 0, train time: 0.0070 s, validate time: 4.6875 s\n",
      "root        : INFO     tr_acc: 0.0675, tr_f1_score: 0.0142, tr_loss: 4.5666\n",
      "root        : INFO     ------------------------------------\n",
      "root        : INFO     iteration: 200, train time: 25.1233 s, validate time: 3.6398 s\n",
      "root        : INFO     tr_acc: 0.9108, tr_f1_score: 0.8637, tr_loss: 0.2852\n",
      "root        : INFO     ------------------------------------\n",
      "root        : INFO     iteration: 400, train time: 25.3836 s, validate time: 3.7385 s\n",
      "root        : INFO     tr_acc: 0.9186, tr_f1_score: 0.8840, tr_loss: 0.2379\n",
      "root        : INFO     ------------------------------------\n",
      "root        : INFO     iteration: 600, train time: 25.4275 s, validate time: 3.6896 s\n",
      "root        : INFO     tr_acc: 0.9389, tr_f1_score: 0.9029, tr_loss: 0.1981\n",
      "root        : INFO     ------------------------------------\n",
      "root        : INFO     iteration: 800, train time: 25.4371 s, validate time: 3.8053 s\n",
      "root        : INFO     tr_acc: 0.9377, tr_f1_score: 0.9112, tr_loss: 0.1920\n",
      "root        : INFO     ------------------------------------\n",
      "root        : INFO     iteration: 1000, train time: 25.4980 s, validate time: 3.7044 s\n",
      "root        : INFO     tr_acc: 0.9575, tr_f1_score: 0.9390, tr_loss: 0.1378\n",
      "root        : INFO     ------------------------------------\n",
      "root        : INFO     Model saved to c:\\Users\\David\\Desktop\\dcase_5\\dcase2018_task5\\pytorch\\main_pytorch\\full_train\\md_1000_iters.tar\n"
     ]
    },
    {
     "name": "stdout",
     "output_type": "stream",
     "text": [
      "<class 'h5py._hl.files.File'>\n",
      "This should not run\n",
      "Write out submission file to c:\\Users\\David\\Desktop\\dcase_5\\dcase2018_task5\\pytorch\\main_pytorch\\iteration=1000\\submission.csv\n"
     ]
    },
    {
     "name": "stderr",
     "output_type": "stream",
     "text": [
      "root        : INFO     Namespace(cuda=True, filename='c:\\\\Users\\\\David\\\\Desktop\\\\dcase_5\\\\dcase2018_task5\\\\pytorch\\\\main_pytorch', iteration=1000, mode='inference_testing_data', title='aug_mixer_10_per_3_cuts_2_mix', workspace='C:\\\\Users\\\\David\\\\Desktop\\\\dcase_5\\\\dcase2018_task5')\n",
      "root        : INFO     Load data time: 18.06553339958191\n",
      "root        : INFO     Training audios: 72984\n",
      "root        : INFO     Validation audios: 0\n",
      "root        : INFO     Load data time: 11.868391990661621\n",
      "root        : INFO     Inference time: 41.0114 s\n",
      "root        : INFO     Averaged accuracy: 0.8583\n",
      "root        : INFO     class_name                    f1_score\n",
      "root        : INFO     ---------------------------------------\n",
      "root        : INFO     absence                       0.8061\n",
      "root        : INFO     cooking                       0.8970\n",
      "root        : INFO     dishwashing                   0.7852\n",
      "root        : INFO     eating                        0.7428\n",
      "root        : INFO     other                         0.4442\n",
      "root        : INFO     social_activity               0.9365\n",
      "root        : INFO     vacuum_cleaner                0.9327\n",
      "root        : INFO     watching_tv                   0.9986\n",
      "root        : INFO     working                       0.7806\n",
      "root        : INFO     ---------------------------------------\n",
      "root        : INFO     Average                       0.8137\n"
     ]
    }
   ],
   "source": [
    "!python $BACKEND/main_pytorch.py train --dataset_dir=$DEV_DATASET_DIR --workspace=$WORKSPACE --augmentation_1=\"aug_mixer_10_per_3_cuts_2_mix\" --cuda\n",
    "!python $BACKEND/main_pytorch.py inference_testing_data --workspace=$WORKSPACE --iteration=1000 --title=\"aug_mixer_10_per_3_cuts_2_mix\" --cuda"
   ]
  },
  {
   "cell_type": "code",
   "execution_count": 8,
   "metadata": {},
   "outputs": [
    {
     "name": "stdout",
     "output_type": "stream",
     "text": [
      "<class 'h5py._hl.files.File'>\n",
      "This should not run\n"
     ]
    },
    {
     "name": "stderr",
     "output_type": "stream",
     "text": [
      "root        : INFO     Namespace(augmentation_1='aug_mixer_20_per_3_cuts_2_mix', augmentation_2=None, cuda=True, dataset_dir='C:\\\\Users\\\\David\\\\Desktop\\\\dcase_5\\\\dcase2018_task5\\\\DCASE2018-task5-dev', filename='c:\\\\Users\\\\David\\\\Desktop\\\\dcase_5\\\\dcase2018_task5\\\\pytorch\\\\main_pytorch', holdout_fold=None, mini_data=False, mode='train', title=None, validate=False, workspace='C:\\\\Users\\\\David\\\\Desktop\\\\dcase_5\\\\dcase2018_task5')\n",
      "root        : INFO     Load data time: 22.556213855743408\n",
      "root        : INFO     Training audios: 76665\n",
      "root        : INFO     Validation audios: 0\n",
      "c:\\Users\\David\\.conda\\envs\\py3_dcase2018_task5_2\\lib\\site-packages\\sklearn\\metrics\\classification.py:1135: UndefinedMetricWarning: F-score is ill-defined and being set to 0.0 in labels with no predicted samples.\n",
      "  'precision', 'predicted', average, warn_for)\n",
      "root        : INFO     iteration: 0, train time: 0.0070 s, validate time: 4.4731 s\n",
      "root        : INFO     tr_acc: 0.0006, tr_f1_score: 0.0003, tr_loss: 2.5557\n",
      "root        : INFO     ------------------------------------\n",
      "root        : INFO     iteration: 200, train time: 24.8058 s, validate time: 3.6373 s\n",
      "root        : INFO     tr_acc: 0.8942, tr_f1_score: 0.8497, tr_loss: 0.3015\n",
      "root        : INFO     ------------------------------------\n",
      "root        : INFO     iteration: 400, train time: 25.3911 s, validate time: 3.6800 s\n",
      "root        : INFO     tr_acc: 0.9363, tr_f1_score: 0.8927, tr_loss: 0.2016\n",
      "root        : INFO     ------------------------------------\n",
      "root        : INFO     iteration: 600, train time: 25.3740 s, validate time: 3.6574 s\n",
      "root        : INFO     tr_acc: 0.9186, tr_f1_score: 0.9063, tr_loss: 0.2432\n",
      "root        : INFO     ------------------------------------\n",
      "root        : INFO     iteration: 800, train time: 25.4777 s, validate time: 3.8012 s\n",
      "root        : INFO     tr_acc: 0.9409, tr_f1_score: 0.9195, tr_loss: 0.1874\n",
      "root        : INFO     ------------------------------------\n",
      "root        : INFO     iteration: 1000, train time: 25.5338 s, validate time: 3.7859 s\n",
      "root        : INFO     tr_acc: 0.9492, tr_f1_score: 0.9282, tr_loss: 0.1566\n",
      "root        : INFO     ------------------------------------\n",
      "root        : INFO     Model saved to c:\\Users\\David\\Desktop\\dcase_5\\dcase2018_task5\\pytorch\\main_pytorch\\full_train\\md_1000_iters.tar\n"
     ]
    },
    {
     "name": "stdout",
     "output_type": "stream",
     "text": [
      "<class 'h5py._hl.files.File'>\n",
      "This should not run\n",
      "Write out submission file to c:\\Users\\David\\Desktop\\dcase_5\\dcase2018_task5\\pytorch\\main_pytorch\\iteration=1000\\submission.csv\n"
     ]
    },
    {
     "name": "stderr",
     "output_type": "stream",
     "text": [
      "root        : INFO     Namespace(cuda=True, filename='c:\\\\Users\\\\David\\\\Desktop\\\\dcase_5\\\\dcase2018_task5\\\\pytorch\\\\main_pytorch', iteration=1000, mode='inference_testing_data', title='aug_mixer_20_per_3_cuts_2_mix', workspace='C:\\\\Users\\\\David\\\\Desktop\\\\dcase_5\\\\dcase2018_task5')\n",
      "root        : INFO     Load data time: 18.078113555908203\n",
      "root        : INFO     Training audios: 72984\n",
      "root        : INFO     Validation audios: 0\n",
      "root        : INFO     Load data time: 11.065227508544922\n",
      "root        : INFO     Inference time: 40.5398 s\n",
      "root        : INFO     Averaged accuracy: 0.7566\n",
      "root        : INFO     class_name                    f1_score\n",
      "root        : INFO     ---------------------------------------\n",
      "root        : INFO     absence                       0.5680\n",
      "root        : INFO     cooking                       0.8736\n",
      "root        : INFO     dishwashing                   0.7472\n",
      "root        : INFO     eating                        0.6656\n",
      "root        : INFO     other                         0.2253\n",
      "root        : INFO     social_activity               0.9335\n",
      "root        : INFO     vacuum_cleaner                0.9118\n",
      "root        : INFO     watching_tv                   0.9987\n",
      "root        : INFO     working                       0.6860\n",
      "root        : INFO     ---------------------------------------\n",
      "root        : INFO     Average                       0.7344\n"
     ]
    },
    {
     "name": "stdout",
     "output_type": "stream",
     "text": [
      "<class 'h5py._hl.files.File'>\n",
      "This should not run\n"
     ]
    },
    {
     "name": "stderr",
     "output_type": "stream",
     "text": [
      "root        : INFO     Namespace(augmentation_1='aug_mixer_20_per_5_cuts_2_mix', augmentation_2=None, cuda=True, dataset_dir='C:\\\\Users\\\\David\\\\Desktop\\\\dcase_5\\\\dcase2018_task5\\\\DCASE2018-task5-dev', filename='c:\\\\Users\\\\David\\\\Desktop\\\\dcase_5\\\\dcase2018_task5\\\\pytorch\\\\main_pytorch', holdout_fold=None, mini_data=False, mode='train', title=None, validate=False, workspace='C:\\\\Users\\\\David\\\\Desktop\\\\dcase_5\\\\dcase2018_task5')\n",
      "root        : INFO     Load data time: 23.54438877105713\n",
      "root        : INFO     Training audios: 76665\n",
      "root        : INFO     Validation audios: 0\n",
      "c:\\Users\\David\\.conda\\envs\\py3_dcase2018_task5_2\\lib\\site-packages\\sklearn\\metrics\\classification.py:1135: UndefinedMetricWarning: F-score is ill-defined and being set to 0.0 in labels with no predicted samples.\n",
      "  'precision', 'predicted', average, warn_for)\n",
      "root        : INFO     iteration: 0, train time: 0.0060 s, validate time: 4.4732 s\n",
      "root        : INFO     tr_acc: 0.0663, tr_f1_score: 0.0247, tr_loss: 4.3627\n",
      "root        : INFO     ------------------------------------\n",
      "root        : INFO     iteration: 200, train time: 24.8168 s, validate time: 3.6204 s\n",
      "root        : INFO     tr_acc: 0.8870, tr_f1_score: 0.8372, tr_loss: 0.3227\n",
      "root        : INFO     ------------------------------------\n",
      "root        : INFO     iteration: 400, train time: 25.3760 s, validate time: 3.6691 s\n",
      "root        : INFO     tr_acc: 0.9020, tr_f1_score: 0.8646, tr_loss: 0.2670\n",
      "root        : INFO     ------------------------------------\n",
      "root        : INFO     iteration: 600, train time: 25.3525 s, validate time: 3.6962 s\n",
      "root        : INFO     tr_acc: 0.9408, tr_f1_score: 0.9135, tr_loss: 0.1835\n",
      "root        : INFO     ------------------------------------\n",
      "root        : INFO     iteration: 800, train time: 25.4200 s, validate time: 3.7266 s\n",
      "root        : INFO     tr_acc: 0.9284, tr_f1_score: 0.8975, tr_loss: 0.2306\n",
      "root        : INFO     ------------------------------------\n",
      "root        : INFO     iteration: 1000, train time: 25.4487 s, validate time: 3.7111 s\n",
      "root        : INFO     tr_acc: 0.9420, tr_f1_score: 0.9142, tr_loss: 0.1737\n",
      "root        : INFO     ------------------------------------\n",
      "root        : INFO     Model saved to c:\\Users\\David\\Desktop\\dcase_5\\dcase2018_task5\\pytorch\\main_pytorch\\full_train\\md_1000_iters.tar\n"
     ]
    },
    {
     "name": "stdout",
     "output_type": "stream",
     "text": [
      "<class 'h5py._hl.files.File'>\n",
      "This should not run\n",
      "Write out submission file to c:\\Users\\David\\Desktop\\dcase_5\\dcase2018_task5\\pytorch\\main_pytorch\\iteration=1000\\submission.csv\n"
     ]
    },
    {
     "name": "stderr",
     "output_type": "stream",
     "text": [
      "root        : INFO     Namespace(cuda=True, filename='c:\\\\Users\\\\David\\\\Desktop\\\\dcase_5\\\\dcase2018_task5\\\\pytorch\\\\main_pytorch', iteration=1000, mode='inference_testing_data', title='aug_mixer_20_per_5_cuts_2_mix', workspace='C:\\\\Users\\\\David\\\\Desktop\\\\dcase_5\\\\dcase2018_task5')\n",
      "root        : INFO     Load data time: 18.855895519256592\n",
      "root        : INFO     Training audios: 72984\n",
      "root        : INFO     Validation audios: 0\n",
      "root        : INFO     Load data time: 11.109415292739868\n",
      "root        : INFO     Inference time: 40.4409 s\n",
      "root        : INFO     Averaged accuracy: 0.7235\n",
      "root        : INFO     class_name                    f1_score\n",
      "root        : INFO     ---------------------------------------\n",
      "root        : INFO     absence                       0.4222\n",
      "root        : INFO     cooking                       0.8458\n",
      "root        : INFO     dishwashing                   0.7518\n",
      "root        : INFO     eating                        0.7056\n",
      "root        : INFO     other                         0.2073\n",
      "root        : INFO     social_activity               0.9222\n",
      "root        : INFO     vacuum_cleaner                0.9208\n",
      "root        : INFO     watching_tv                   0.9991\n",
      "root        : INFO     working                       0.6475\n",
      "root        : INFO     ---------------------------------------\n",
      "root        : INFO     Average                       0.7136\n"
     ]
    },
    {
     "name": "stdout",
     "output_type": "stream",
     "text": [
      "<class 'h5py._hl.files.File'>\n",
      "This should not run\n"
     ]
    },
    {
     "name": "stderr",
     "output_type": "stream",
     "text": [
      "root        : INFO     Namespace(augmentation_1='aug_mixer_20_per_7_cuts_2_mix', augmentation_2=None, cuda=True, dataset_dir='C:\\\\Users\\\\David\\\\Desktop\\\\dcase_5\\\\dcase2018_task5\\\\DCASE2018-task5-dev', filename='c:\\\\Users\\\\David\\\\Desktop\\\\dcase_5\\\\dcase2018_task5\\\\pytorch\\\\main_pytorch', holdout_fold=None, mini_data=False, mode='train', title=None, validate=False, workspace='C:\\\\Users\\\\David\\\\Desktop\\\\dcase_5\\\\dcase2018_task5')\n",
      "root        : INFO     Load data time: 23.53214716911316\n",
      "root        : INFO     Training audios: 76665\n",
      "root        : INFO     Validation audios: 0\n",
      "c:\\Users\\David\\.conda\\envs\\py3_dcase2018_task5_2\\lib\\site-packages\\sklearn\\metrics\\classification.py:1135: UndefinedMetricWarning: F-score is ill-defined and being set to 0.0 in labels with no predicted samples.\n",
      "  'precision', 'predicted', average, warn_for)\n",
      "root        : INFO     iteration: 0, train time: 0.0090 s, validate time: 4.4668 s\n",
      "root        : INFO     tr_acc: 0.2344, tr_f1_score: 0.0533, tr_loss: 6.5503\n",
      "root        : INFO     ------------------------------------\n",
      "root        : INFO     iteration: 200, train time: 24.8527 s, validate time: 3.6433 s\n",
      "root        : INFO     tr_acc: 0.8930, tr_f1_score: 0.8534, tr_loss: 0.3160\n",
      "root        : INFO     ------------------------------------\n",
      "root        : INFO     iteration: 400, train time: 25.3675 s, validate time: 3.6783 s\n",
      "root        : INFO     tr_acc: 0.9086, tr_f1_score: 0.8756, tr_loss: 0.2554\n",
      "root        : INFO     ------------------------------------\n",
      "root        : INFO     iteration: 600, train time: 25.3953 s, validate time: 3.7083 s\n",
      "root        : INFO     tr_acc: 0.9434, tr_f1_score: 0.9240, tr_loss: 0.1750\n",
      "root        : INFO     ------------------------------------\n",
      "root        : INFO     iteration: 800, train time: 25.4251 s, validate time: 3.7517 s\n",
      "root        : INFO     tr_acc: 0.9370, tr_f1_score: 0.9161, tr_loss: 0.1939\n",
      "root        : INFO     ------------------------------------\n",
      "root        : INFO     iteration: 1000, train time: 25.4886 s, validate time: 3.7746 s\n",
      "root        : INFO     tr_acc: 0.9453, tr_f1_score: 0.9196, tr_loss: 0.1573\n",
      "root        : INFO     ------------------------------------\n",
      "root        : INFO     Model saved to c:\\Users\\David\\Desktop\\dcase_5\\dcase2018_task5\\pytorch\\main_pytorch\\full_train\\md_1000_iters.tar\n"
     ]
    },
    {
     "name": "stdout",
     "output_type": "stream",
     "text": [
      "<class 'h5py._hl.files.File'>\n",
      "This should not run\n",
      "Write out submission file to c:\\Users\\David\\Desktop\\dcase_5\\dcase2018_task5\\pytorch\\main_pytorch\\iteration=1000\\submission.csv\n"
     ]
    },
    {
     "name": "stderr",
     "output_type": "stream",
     "text": [
      "root        : INFO     Namespace(cuda=True, filename='c:\\\\Users\\\\David\\\\Desktop\\\\dcase_5\\\\dcase2018_task5\\\\pytorch\\\\main_pytorch', iteration=1000, mode='inference_testing_data', title='aug_mixer_20_per_7_cuts_2_mix', workspace='C:\\\\Users\\\\David\\\\Desktop\\\\dcase_5\\\\dcase2018_task5')\n",
      "root        : INFO     Load data time: 18.598365306854248\n",
      "root        : INFO     Training audios: 72984\n",
      "root        : INFO     Validation audios: 0\n",
      "root        : INFO     Load data time: 10.990604162216187\n",
      "root        : INFO     Inference time: 40.5783 s\n",
      "root        : INFO     Averaged accuracy: 0.7670\n",
      "root        : INFO     class_name                    f1_score\n",
      "root        : INFO     ---------------------------------------\n",
      "root        : INFO     absence                       0.5771\n",
      "root        : INFO     cooking                       0.8426\n",
      "root        : INFO     dishwashing                   0.7590\n",
      "root        : INFO     eating                        0.7415\n",
      "root        : INFO     other                         0.2770\n",
      "root        : INFO     social_activity               0.9394\n",
      "root        : INFO     vacuum_cleaner                0.9009\n",
      "root        : INFO     watching_tv                   0.9991\n",
      "root        : INFO     working                       0.6749\n",
      "root        : INFO     ---------------------------------------\n",
      "root        : INFO     Average                       0.7457\n"
     ]
    }
   ],
   "source": [
    "!python $BACKEND/main_pytorch.py train --dataset_dir=$DEV_DATASET_DIR --workspace=$WORKSPACE --augmentation_1=\"aug_mixer_20_per_3_cuts_2_mix\" --cuda\n",
    "!python $BACKEND/main_pytorch.py inference_testing_data --workspace=$WORKSPACE --iteration=1000 --title=\"aug_mixer_20_per_3_cuts_2_mix\" --cuda\n",
    "\n",
    "!python $BACKEND/main_pytorch.py train --dataset_dir=$DEV_DATASET_DIR --workspace=$WORKSPACE --augmentation_1=\"aug_mixer_20_per_5_cuts_2_mix\" --cuda\n",
    "!python $BACKEND/main_pytorch.py inference_testing_data --workspace=$WORKSPACE --iteration=1000 --title=\"aug_mixer_20_per_5_cuts_2_mix\" --cuda\n",
    "\n",
    "!python $BACKEND/main_pytorch.py train --dataset_dir=$DEV_DATASET_DIR --workspace=$WORKSPACE --augmentation_1=\"aug_mixer_20_per_7_cuts_2_mix\" --cuda\n",
    "!python $BACKEND/main_pytorch.py inference_testing_data --workspace=$WORKSPACE --iteration=1000 --title=\"aug_mixer_20_per_7_cuts_2_mix\" --cuda"
   ]
  },
  {
   "cell_type": "code",
   "execution_count": 9,
   "metadata": {},
   "outputs": [
    {
     "name": "stdout",
     "output_type": "stream",
     "text": [
      "<class 'h5py._hl.files.File'>\n"
     ]
    },
    {
     "name": "stderr",
     "output_type": "stream",
     "text": [
      "root        : INFO     Namespace(augmentation_1='aug_mixer_20_per_5_cuts_3_mix', augmentation_2=None, cuda=True, dataset_dir='C:\\\\Users\\\\David\\\\Desktop\\\\dcase_5\\\\dcase2018_task5\\\\DCASE2018-task5-dev', filename='c:\\\\Users\\\\David\\\\Desktop\\\\dcase_5\\\\dcase2018_task5\\\\pytorch\\\\main_pytorch', holdout_fold=None, mini_data=False, mode='train', title=None, validate=False, workspace='C:\\\\Users\\\\David\\\\Desktop\\\\dcase_5\\\\dcase2018_task5')\n",
      "Traceback (most recent call last):\n",
      "  File \"pytorch/main_pytorch.py\", line 551, in <module>\n",
      "    train(args)\n",
      "  File \"pytorch/main_pytorch.py\", line 184, in train\n",
      "    augmentation_2=augmentation_2\n",
      "  File \"c:\\Users\\David\\Desktop\\dcase_5\\dcase2018_task5\\pytorch\\../utils\\data_generator.py\", line 63, in __init__\n",
      "    hf_a = h5py.File(\"C:\\\\Users\\\\David\\\\Desktop\\\\dcase_5\\\\dcase2018_task5\\\\DCASE2018-task5-dev\\\\aug\\\\\"+ aug +\"\\\\features\\\\logmel\\\\development.h5\", 'r')\n",
      "  File \"c:\\Users\\David\\.conda\\envs\\py3_dcase2018_task5_2\\lib\\site-packages\\h5py\\_hl\\files.py\", line 312, in __init__\n",
      "    fid = make_fid(name, mode, userblock_size, fapl, swmr=swmr)\n",
      "  File \"c:\\Users\\David\\.conda\\envs\\py3_dcase2018_task5_2\\lib\\site-packages\\h5py\\_hl\\files.py\", line 142, in make_fid\n",
      "    fid = h5f.open(name, flags, fapl=fapl)\n",
      "  File \"h5py\\_objects.pyx\", line 54, in h5py._objects.with_phil.wrapper\n",
      "  File \"h5py\\_objects.pyx\", line 55, in h5py._objects.with_phil.wrapper\n",
      "  File \"h5py\\h5f.pyx\", line 78, in h5py.h5f.open\n",
      "OSError: Unable to open file (unable to open file: name = 'C:\\Users\\David\\Desktop\\dcase_5\\dcase2018_task5\\DCASE2018-task5-dev\\aug\\aug_mixer_20_per_5_cuts_3_mix\\features\\logmel\\development.h5', errno = 2, error message = 'No such file or directory', flags = 0, o_flags = 0)\n"
     ]
    },
    {
     "name": "stdout",
     "output_type": "stream",
     "text": [
      "<class 'h5py._hl.files.File'>\n",
      "This should not run\n",
      "Write out submission file to c:\\Users\\David\\Desktop\\dcase_5\\dcase2018_task5\\pytorch\\main_pytorch\\iteration=1000\\submission.csv\n"
     ]
    },
    {
     "name": "stderr",
     "output_type": "stream",
     "text": [
      "root        : INFO     Namespace(cuda=True, filename='c:\\\\Users\\\\David\\\\Desktop\\\\dcase_5\\\\dcase2018_task5\\\\pytorch\\\\main_pytorch', iteration=1000, mode='inference_testing_data', title='aug_mixer_20_per_5_cuts_3_mix', workspace='C:\\\\Users\\\\David\\\\Desktop\\\\dcase_5\\\\dcase2018_task5')\n",
      "root        : INFO     Load data time: 17.167794704437256\n",
      "root        : INFO     Training audios: 72984\n",
      "root        : INFO     Validation audios: 0\n",
      "root        : INFO     Load data time: 10.777438402175903\n",
      "root        : INFO     Inference time: 41.1135 s\n",
      "root        : INFO     Averaged accuracy: 0.7670\n",
      "root        : INFO     class_name                    f1_score\n",
      "root        : INFO     ---------------------------------------\n",
      "root        : INFO     absence                       0.5771\n",
      "root        : INFO     cooking                       0.8426\n",
      "root        : INFO     dishwashing                   0.7590\n",
      "root        : INFO     eating                        0.7415\n",
      "root        : INFO     other                         0.2770\n",
      "root        : INFO     social_activity               0.9394\n",
      "root        : INFO     vacuum_cleaner                0.9009\n",
      "root        : INFO     watching_tv                   0.9991\n",
      "root        : INFO     working                       0.6749\n",
      "root        : INFO     ---------------------------------------\n",
      "root        : INFO     Average                       0.7457\n"
     ]
    },
    {
     "name": "stdout",
     "output_type": "stream",
     "text": [
      "<class 'h5py._hl.files.File'>\n",
      "This should not run\n"
     ]
    },
    {
     "name": "stderr",
     "output_type": "stream",
     "text": [
      "root        : INFO     Namespace(augmentation_1='aug_mixer_20_per_7_cuts_3_mix', augmentation_2=None, cuda=True, dataset_dir='C:\\\\Users\\\\David\\\\Desktop\\\\dcase_5\\\\dcase2018_task5\\\\DCASE2018-task5-dev', filename='c:\\\\Users\\\\David\\\\Desktop\\\\dcase_5\\\\dcase2018_task5\\\\pytorch\\\\main_pytorch', holdout_fold=None, mini_data=False, mode='train', title=None, validate=False, workspace='C:\\\\Users\\\\David\\\\Desktop\\\\dcase_5\\\\dcase2018_task5')\n",
      "root        : INFO     Load data time: 23.719280242919922\n",
      "root        : INFO     Training audios: 76665\n",
      "root        : INFO     Validation audios: 0\n",
      "c:\\Users\\David\\.conda\\envs\\py3_dcase2018_task5_2\\lib\\site-packages\\sklearn\\metrics\\classification.py:1135: UndefinedMetricWarning: F-score is ill-defined and being set to 0.0 in labels with no predicted samples.\n",
      "  'precision', 'predicted', average, warn_for)\n",
      "root        : INFO     iteration: 0, train time: 0.0070 s, validate time: 4.4391 s\n",
      "root        : INFO     tr_acc: 0.0766, tr_f1_score: 0.0158, tr_loss: 3.8519\n",
      "root        : INFO     ------------------------------------\n",
      "root        : INFO     iteration: 200, train time: 24.8527 s, validate time: 3.6599 s\n",
      "root        : INFO     tr_acc: 0.8986, tr_f1_score: 0.8407, tr_loss: 0.2971\n",
      "root        : INFO     ------------------------------------\n",
      "root        : INFO     iteration: 400, train time: 25.3737 s, validate time: 3.6782 s\n",
      "root        : INFO     tr_acc: 0.9386, tr_f1_score: 0.9023, tr_loss: 0.1981\n",
      "root        : INFO     ------------------------------------\n",
      "root        : INFO     iteration: 600, train time: 25.3864 s, validate time: 3.6583 s\n",
      "root        : INFO     tr_acc: 0.9387, tr_f1_score: 0.9162, tr_loss: 0.1871\n",
      "root        : INFO     ------------------------------------\n",
      "root        : INFO     iteration: 800, train time: 25.4201 s, validate time: 3.6821 s\n",
      "root        : INFO     tr_acc: 0.9439, tr_f1_score: 0.9138, tr_loss: 0.1704\n",
      "root        : INFO     ------------------------------------\n",
      "root        : INFO     iteration: 1000, train time: 25.4375 s, validate time: 3.7101 s\n",
      "root        : INFO     tr_acc: 0.9437, tr_f1_score: 0.9195, tr_loss: 0.1603\n",
      "root        : INFO     ------------------------------------\n",
      "root        : INFO     Model saved to c:\\Users\\David\\Desktop\\dcase_5\\dcase2018_task5\\pytorch\\main_pytorch\\full_train\\md_1000_iters.tar\n"
     ]
    },
    {
     "name": "stdout",
     "output_type": "stream",
     "text": [
      "<class 'h5py._hl.files.File'>\n",
      "This should not run\n",
      "Write out submission file to c:\\Users\\David\\Desktop\\dcase_5\\dcase2018_task5\\pytorch\\main_pytorch\\iteration=1000\\submission.csv\n"
     ]
    },
    {
     "name": "stderr",
     "output_type": "stream",
     "text": [
      "root        : INFO     Namespace(cuda=True, filename='c:\\\\Users\\\\David\\\\Desktop\\\\dcase_5\\\\dcase2018_task5\\\\pytorch\\\\main_pytorch', iteration=1000, mode='inference_testing_data', title='aug_mixer_20_per_7_cuts_3_mix', workspace='C:\\\\Users\\\\David\\\\Desktop\\\\dcase_5\\\\dcase2018_task5')\n",
      "root        : INFO     Load data time: 17.20228338241577\n",
      "root        : INFO     Training audios: 72984\n",
      "root        : INFO     Validation audios: 0\n",
      "root        : INFO     Load data time: 11.35167670249939\n",
      "root        : INFO     Inference time: 41.6491 s\n",
      "root        : INFO     Averaged accuracy: 0.8075\n",
      "root        : INFO     class_name                    f1_score\n",
      "root        : INFO     ---------------------------------------\n",
      "root        : INFO     absence                       0.7012\n",
      "root        : INFO     cooking                       0.8536\n",
      "root        : INFO     dishwashing                   0.7717\n",
      "root        : INFO     eating                        0.7594\n",
      "root        : INFO     other                         0.2807\n",
      "root        : INFO     social_activity               0.9529\n",
      "root        : INFO     vacuum_cleaner                0.9003\n",
      "root        : INFO     watching_tv                   0.9987\n",
      "root        : INFO     working                       0.7189\n",
      "root        : INFO     ---------------------------------------\n",
      "root        : INFO     Average                       0.7708\n"
     ]
    }
   ],
   "source": [
    "\n",
    "!python $BACKEND/main_pytorch.py train --dataset_dir=$DEV_DATASET_DIR --workspace=$WORKSPACE --augmentation_1=\"aug_mixer_20_per_5_cuts_3_mix\" --cuda\n",
    "!python $BACKEND/main_pytorch.py inference_testing_data --workspace=$WORKSPACE --iteration=1000 --title=\"aug_mixer_20_per_5_cuts_3_mix\" --cuda\n",
    "\n",
    "!python $BACKEND/main_pytorch.py train --dataset_dir=$DEV_DATASET_DIR --workspace=$WORKSPACE --augmentation_1=\"aug_mixer_20_per_7_cuts_3_mix\" --cuda\n",
    "!python $BACKEND/main_pytorch.py inference_testing_data --workspace=$WORKSPACE --iteration=1000 --title=\"aug_mixer_20_per_7_cuts_3_mix\" --cuda"
   ]
  },
  {
   "cell_type": "code",
   "execution_count": 11,
   "metadata": {},
   "outputs": [
    {
     "name": "stdout",
     "output_type": "stream",
     "text": [
      "<class 'h5py._hl.files.File'>\n",
      "This should not run\n"
     ]
    },
    {
     "name": "stderr",
     "output_type": "stream",
     "text": [
      "root        : INFO     Namespace(augmentation_1='aug_mixer_10_per_3_cuts_2_mix', augmentation_2=None, cuda=True, dataset_dir='C:\\\\Users\\\\David\\\\Desktop\\\\dcase_5\\\\dcase2018_task5\\\\DCASE2018-task5-dev', filename='c:\\\\Users\\\\David\\\\Desktop\\\\dcase_5\\\\dcase2018_task5\\\\pytorch\\\\main_pytorch', holdout_fold=None, mini_data=False, mode='train', title=None, validate=False, workspace='C:\\\\Users\\\\David\\\\Desktop\\\\dcase_5\\\\dcase2018_task5')\n",
      "root        : INFO     Load data time: 20.66547441482544\n",
      "root        : INFO     Training audios: 74824\n",
      "root        : INFO     Validation audios: 0\n",
      "c:\\Users\\David\\.conda\\envs\\py3_dcase2018_task5_2\\lib\\site-packages\\sklearn\\metrics\\classification.py:1135: UndefinedMetricWarning: F-score is ill-defined and being set to 0.0 in labels with no predicted samples.\n",
      "  'precision', 'predicted', average, warn_for)\n",
      "root        : INFO     iteration: 0, train time: 0.0070 s, validate time: 4.4371 s\n",
      "root        : INFO     tr_acc: 0.2534, tr_f1_score: 0.0453, tr_loss: 5.1321\n",
      "root        : INFO     ------------------------------------\n",
      "root        : INFO     iteration: 200, train time: 24.7388 s, validate time: 3.6772 s\n",
      "root        : INFO     tr_acc: 0.9147, tr_f1_score: 0.8665, tr_loss: 0.2866\n",
      "root        : INFO     ------------------------------------\n",
      "root        : INFO     iteration: 400, train time: 25.4130 s, validate time: 3.7380 s\n",
      "root        : INFO     tr_acc: 0.9291, tr_f1_score: 0.8789, tr_loss: 0.2285\n",
      "root        : INFO     ------------------------------------\n",
      "root        : INFO     iteration: 600, train time: 25.4462 s, validate time: 3.7674 s\n",
      "root        : INFO     tr_acc: 0.9430, tr_f1_score: 0.9070, tr_loss: 0.1827\n",
      "root        : INFO     ------------------------------------\n",
      "root        : INFO     iteration: 800, train time: 25.5131 s, validate time: 4.6168 s\n",
      "root        : INFO     tr_acc: 0.9387, tr_f1_score: 0.9115, tr_loss: 0.1889\n",
      "root        : INFO     ------------------------------------\n",
      "root        : INFO     iteration: 1000, train time: 25.6768 s, validate time: 3.8028 s\n",
      "root        : INFO     tr_acc: 0.9553, tr_f1_score: 0.9374, tr_loss: 0.1426\n",
      "root        : INFO     ------------------------------------\n",
      "root        : INFO     Model saved to c:\\Users\\David\\Desktop\\dcase_5\\dcase2018_task5\\pytorch\\main_pytorch\\full_train\\md_1000_iters.tar\n",
      "root        : INFO     iteration: 1200, train time: 25.5214 s, validate time: 3.8468 s\n",
      "root        : INFO     tr_acc: 0.9497, tr_f1_score: 0.9319, tr_loss: 0.1487\n",
      "root        : INFO     ------------------------------------\n",
      "root        : INFO     iteration: 1400, train time: 25.5398 s, validate time: 3.7570 s\n",
      "root        : INFO     tr_acc: 0.9600, tr_f1_score: 0.9468, tr_loss: 0.1224\n",
      "root        : INFO     ------------------------------------\n",
      "root        : INFO     iteration: 1600, train time: 25.5020 s, validate time: 3.7570 s\n",
      "root        : INFO     tr_acc: 0.9648, tr_f1_score: 0.9497, tr_loss: 0.1163\n",
      "root        : INFO     ------------------------------------\n",
      "root        : INFO     iteration: 1800, train time: 25.5095 s, validate time: 3.8329 s\n",
      "root        : INFO     tr_acc: 0.9672, tr_f1_score: 0.9611, tr_loss: 0.1133\n",
      "root        : INFO     ------------------------------------\n",
      "root        : INFO     iteration: 2000, train time: 27.5384 s, validate time: 4.3574 s\n",
      "root        : INFO     tr_acc: 0.9697, tr_f1_score: 0.9582, tr_loss: 0.0911\n",
      "root        : INFO     ------------------------------------\n",
      "root        : INFO     Model saved to c:\\Users\\David\\Desktop\\dcase_5\\dcase2018_task5\\pytorch\\main_pytorch\\full_train\\md_2000_iters.tar\n",
      "root        : INFO     iteration: 2200, train time: 31.7988 s, validate time: 4.2616 s\n",
      "root        : INFO     tr_acc: 0.9741, tr_f1_score: 0.9671, tr_loss: 0.0841\n",
      "root        : INFO     ------------------------------------\n",
      "root        : INFO     iteration: 2400, train time: 31.3347 s, validate time: 4.3224 s\n",
      "root        : INFO     tr_acc: 0.9772, tr_f1_score: 0.9738, tr_loss: 0.0761\n",
      "root        : INFO     ------------------------------------\n",
      "root        : INFO     iteration: 2600, train time: 31.3769 s, validate time: 4.2311 s\n",
      "root        : INFO     tr_acc: 0.9792, tr_f1_score: 0.9728, tr_loss: 0.0717\n",
      "root        : INFO     ------------------------------------\n",
      "root        : INFO     iteration: 2800, train time: 31.4914 s, validate time: 4.2512 s\n",
      "root        : INFO     tr_acc: 0.9769, tr_f1_score: 0.9767, tr_loss: 0.0725\n",
      "root        : INFO     ------------------------------------\n",
      "root        : INFO     iteration: 3000, train time: 31.4677 s, validate time: 4.2339 s\n",
      "root        : INFO     tr_acc: 0.9761, tr_f1_score: 0.9754, tr_loss: 0.0749\n",
      "root        : INFO     ------------------------------------\n",
      "root        : INFO     Model saved to c:\\Users\\David\\Desktop\\dcase_5\\dcase2018_task5\\pytorch\\main_pytorch\\full_train\\md_3000_iters.tar\n",
      "root        : INFO     iteration: 3200, train time: 31.4895 s, validate time: 4.2108 s\n",
      "root        : INFO     tr_acc: 0.9786, tr_f1_score: 0.9769, tr_loss: 0.0717\n",
      "root        : INFO     ------------------------------------\n",
      "root        : INFO     iteration: 3400, train time: 31.5337 s, validate time: 4.2646 s\n",
      "root        : INFO     tr_acc: 0.9819, tr_f1_score: 0.9778, tr_loss: 0.0635\n",
      "root        : INFO     ------------------------------------\n",
      "root        : INFO     iteration: 3600, train time: 31.4954 s, validate time: 4.3214 s\n",
      "root        : INFO     tr_acc: 0.9812, tr_f1_score: 0.9809, tr_loss: 0.0658\n",
      "root        : INFO     ------------------------------------\n",
      "root        : INFO     iteration: 3800, train time: 31.6221 s, validate time: 4.2188 s\n",
      "root        : INFO     tr_acc: 0.9812, tr_f1_score: 0.9756, tr_loss: 0.0637\n",
      "root        : INFO     ------------------------------------\n",
      "root        : INFO     iteration: 4000, train time: 31.6240 s, validate time: 4.3044 s\n",
      "root        : INFO     tr_acc: 0.9816, tr_f1_score: 0.9805, tr_loss: 0.0617\n",
      "root        : INFO     ------------------------------------\n",
      "root        : INFO     Model saved to c:\\Users\\David\\Desktop\\dcase_5\\dcase2018_task5\\pytorch\\main_pytorch\\full_train\\md_4000_iters.tar\n",
      "root        : INFO     iteration: 4200, train time: 31.5345 s, validate time: 4.2428 s\n",
      "root        : INFO     tr_acc: 0.9844, tr_f1_score: 0.9821, tr_loss: 0.0586\n",
      "root        : INFO     ------------------------------------\n",
      "root        : INFO     iteration: 4400, train time: 31.5762 s, validate time: 4.2223 s\n",
      "root        : INFO     tr_acc: 0.9852, tr_f1_score: 0.9837, tr_loss: 0.0547\n",
      "root        : INFO     ------------------------------------\n",
      "root        : INFO     iteration: 4600, train time: 31.4916 s, validate time: 4.2377 s\n",
      "root        : INFO     tr_acc: 0.9820, tr_f1_score: 0.9756, tr_loss: 0.0570\n",
      "root        : INFO     ------------------------------------\n",
      "root        : INFO     iteration: 4800, train time: 31.2954 s, validate time: 4.2845 s\n",
      "root        : INFO     tr_acc: 0.9852, tr_f1_score: 0.9850, tr_loss: 0.0540\n",
      "root        : INFO     ------------------------------------\n",
      "root        : INFO     iteration: 5000, train time: 31.3894 s, validate time: 4.3334 s\n",
      "root        : INFO     tr_acc: 0.9858, tr_f1_score: 0.9856, tr_loss: 0.0550\n",
      "root        : INFO     ------------------------------------\n",
      "root        : INFO     Model saved to c:\\Users\\David\\Desktop\\dcase_5\\dcase2018_task5\\pytorch\\main_pytorch\\full_train\\md_5000_iters.tar\n",
      "root        : INFO     Namespace(cuda=True, filename='c:\\\\Users\\\\David\\\\Desktop\\\\dcase_5\\\\dcase2018_task5\\\\pytorch\\\\main_pytorch', iteration=5000, mode='inference_testing_data', title='aug_mixer_10_per_3_cuts_2_mix_long_run_5000', workspace='C:\\\\Users\\\\David\\\\Desktop\\\\dcase_5\\\\dcase2018_task5')\n",
      "root        : INFO     Load data time: 16.571274757385254\n",
      "root        : INFO     Training audios: 72984\n",
      "root        : INFO     Validation audios: 0\n",
      "root        : INFO     Load data time: 11.155216455459595\n",
      "root        : INFO     Inference time: 46.9263 s\n",
      "root        : INFO     Averaged accuracy: 0.8709\n",
      "root        : INFO     class_name                    f1_score\n",
      "root        : INFO     ---------------------------------------\n",
      "root        : INFO     absence                       0.8455\n",
      "root        : INFO     cooking                       0.9074\n",
      "root        : INFO     dishwashing                   0.7937\n",
      "root        : INFO     eating                        0.7693\n",
      "root        : INFO     other                         0.3471\n",
      "root        : INFO     social_activity               0.9427\n"
     ]
    },
    {
     "name": "stdout",
     "output_type": "stream",
     "text": [
      "<class 'h5py._hl.files.File'>\n",
      "This should not run\n",
      "Write out submission file to c:\\Users\\David\\Desktop\\dcase_5\\dcase2018_task5\\pytorch\\main_pytorch\\iteration=5000\\submission.csv\n"
     ]
    },
    {
     "name": "stderr",
     "output_type": "stream",
     "text": [
      "root        : INFO     vacuum_cleaner                0.9393\n",
      "root        : INFO     watching_tv                   0.9979\n",
      "root        : INFO     working                       0.8118\n",
      "root        : INFO     ---------------------------------------\n",
      "root        : INFO     Average                       0.8172\n"
     ]
    }
   ],
   "source": [
    "!python $BACKEND/main_pytorch.py train --dataset_dir=$DEV_DATASET_DIR --workspace=$WORKSPACE --augmentation_1=\"aug_mixer_10_per_3_cuts_2_mix\" --cuda\n",
    "!python $BACKEND/main_pytorch.py inference_testing_data --workspace=$WORKSPACE --iteration=5000 --title=\"aug_mixer_10_per_3_cuts_2_mix_long_run_5000\" --cuda"
   ]
  },
  {
   "cell_type": "code",
   "execution_count": 12,
   "metadata": {},
   "outputs": [],
   "source": [
    "!python $BACKEND/main_pytorch.py train --dataset_dir=$DEV_DATASET_DIR --workspace=$WORKSPACE --cuda\n",
    "!python $BACKEND/main_pytorch.py inference_testing_data --workspace=$WORKSPACE --iteration=5000 --title=\"baseline_long_run\" --cuda\n"
   ]
  },
  {
   "cell_type": "code",
   "execution_count": null,
   "metadata": {},
   "outputs": [],
   "source": [
    "!python $BACKEND/main_pytorch.py train --dataset_dir=$DEV_DATASET_DIR --workspace=$WORKSPACE --augmentation_1=\"aug_mixer_20_per_7_cuts_3_mix\" --cuda\n",
    "!python $BACKEND/main_pytorch.py inference_testing_data --workspace=$WORKSPACE --iteration=5000 --title=\"aug_mixer_20_per_7_cuts_3_mix\" --cuda"
   ]
  }
 ],
 "metadata": {
  "kernelspec": {
   "display_name": "Python 3.6.13 ('py3_dcase2018_task5_2')",
   "language": "python",
   "name": "python3"
  },
  "language_info": {
   "codemirror_mode": {
    "name": "ipython",
    "version": 3
   },
   "file_extension": ".py",
   "mimetype": "text/x-python",
   "name": "python",
   "nbconvert_exporter": "python",
   "pygments_lexer": "ipython3",
   "version": "3.6.13"
  },
  "orig_nbformat": 4,
  "vscode": {
   "interpreter": {
    "hash": "6bc358a215fa64b0bd2e35db93305389befbabc07a935fc4facc4f4e52027abb"
   }
  }
 },
 "nbformat": 4,
 "nbformat_minor": 2
}
